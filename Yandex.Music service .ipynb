{
 "cells": [
  {
   "cell_type": "markdown",
   "metadata": {
    "id": "E0vqbgi9ay0H"
   },
   "source": [
    "# Яндекс.Музыка"
   ]
  },
  {
   "cell_type": "markdown",
   "metadata": {
    "id": "VUC88oWjTJw2"
   },
   "source": [
    "Сравнение Москвы и Петербурга окружено мифами. Например:\n",
    " * Москва — мегаполис, подчинённый жёсткому ритму рабочей недели;\n",
    " * Петербург — культурная столица, со своими вкусами.\n",
    "\n",
    "На данных Яндекс.Музыки вы сравните поведение пользователей двух столиц.\n",
    "\n",
    "**Цель исследования** — проверьте три гипотезы:\n",
    "1. Активность пользователей зависит от дня недели. Причём в Москве и Петербурге это проявляется по-разному.\n",
    "2. В понедельник утром в Москве преобладают одни жанры, а в Петербурге — другие. Так же и вечером пятницы преобладают разные жанры — в зависимости от города. \n",
    "3. Москва и Петербург предпочитают разные жанры музыки. В Москве чаще слушают поп-музыку, в Петербурге — русский рэп.\n",
    "\n",
    "**Ход исследования**\n",
    "\n",
    "Данные о поведении пользователей вы получите из файла `yandex_music_project.csv`. О качестве данных ничего не известно. Поэтому перед проверкой гипотез понадобится обзор данных. \n",
    "\n",
    "Вы проверите данные на ошибки и оцените их влияние на исследование. Затем, на этапе предобработки вы поищете возможность исправить самые критичные ошибки данных.\n",
    " \n",
    "Таким образом, исследование пройдёт в три этапа:\n",
    " 1. Обзор данных.\n",
    " 2. Предобработка данных.\n",
    " 3. Проверка гипотез.\n",
    "\n"
   ]
  },
  {
   "cell_type": "markdown",
   "metadata": {
    "id": "Ml1hmfXC_Zcs"
   },
   "source": [
    "## Обзор данных\n",
    "\n",
    "Составьте первое представление о данных Яндекс.Музыки.\n",
    "\n",
    "\n"
   ]
  },
  {
   "cell_type": "markdown",
   "metadata": {
    "id": "57eAOGIz_Zcs"
   },
   "source": [
    "Основной инструмент аналитика — `pandas`. Импортируйте эту библиотеку."
   ]
  },
  {
   "cell_type": "code",
   "execution_count": 1,
   "metadata": {
    "id": "AXN7PHPN_Zcs"
   },
   "outputs": [],
   "source": [
    "import pandas as pd# импорт библиотеки pandas"
   ]
  },
  {
   "cell_type": "markdown",
   "metadata": {
    "id": "SG23P8tt_Zcs"
   },
   "source": [
    "Прочитайте файл `yandex_music_project.csv` из папки `/datasets` и сохраните его в переменной `df`:"
   ]
  },
  {
   "cell_type": "code",
   "execution_count": 2,
   "metadata": {
    "id": "fFVu7vqh_Zct"
   },
   "outputs": [],
   "source": [
    "df = pd.read_csv('/datasets/yandex_music_project.csv')# чтение файла с данными и сохранение в df"
   ]
  },
  {
   "cell_type": "markdown",
   "metadata": {
    "id": "rDoOMd3uTqnZ"
   },
   "source": [
    "Выведите на экран первые десять строк таблицы:"
   ]
  },
  {
   "cell_type": "code",
   "execution_count": 3,
   "metadata": {
    "id": "oWTVX3gW_Zct"
   },
   "outputs": [
    {
     "data": {
      "text/html": [
       "<div>\n",
       "<style scoped>\n",
       "    .dataframe tbody tr th:only-of-type {\n",
       "        vertical-align: middle;\n",
       "    }\n",
       "\n",
       "    .dataframe tbody tr th {\n",
       "        vertical-align: top;\n",
       "    }\n",
       "\n",
       "    .dataframe thead th {\n",
       "        text-align: right;\n",
       "    }\n",
       "</style>\n",
       "<table border=\"1\" class=\"dataframe\">\n",
       "  <thead>\n",
       "    <tr style=\"text-align: right;\">\n",
       "      <th></th>\n",
       "      <th>userID</th>\n",
       "      <th>Track</th>\n",
       "      <th>artist</th>\n",
       "      <th>genre</th>\n",
       "      <th>City</th>\n",
       "      <th>time</th>\n",
       "      <th>Day</th>\n",
       "    </tr>\n",
       "  </thead>\n",
       "  <tbody>\n",
       "    <tr>\n",
       "      <td>0</td>\n",
       "      <td>FFB692EC</td>\n",
       "      <td>Kamigata To Boots</td>\n",
       "      <td>The Mass Missile</td>\n",
       "      <td>rock</td>\n",
       "      <td>Saint-Petersburg</td>\n",
       "      <td>20:28:33</td>\n",
       "      <td>Wednesday</td>\n",
       "    </tr>\n",
       "    <tr>\n",
       "      <td>1</td>\n",
       "      <td>55204538</td>\n",
       "      <td>Delayed Because of Accident</td>\n",
       "      <td>Andreas Rönnberg</td>\n",
       "      <td>rock</td>\n",
       "      <td>Moscow</td>\n",
       "      <td>14:07:09</td>\n",
       "      <td>Friday</td>\n",
       "    </tr>\n",
       "    <tr>\n",
       "      <td>2</td>\n",
       "      <td>20EC38</td>\n",
       "      <td>Funiculì funiculà</td>\n",
       "      <td>Mario Lanza</td>\n",
       "      <td>pop</td>\n",
       "      <td>Saint-Petersburg</td>\n",
       "      <td>20:58:07</td>\n",
       "      <td>Wednesday</td>\n",
       "    </tr>\n",
       "    <tr>\n",
       "      <td>3</td>\n",
       "      <td>A3DD03C9</td>\n",
       "      <td>Dragons in the Sunset</td>\n",
       "      <td>Fire + Ice</td>\n",
       "      <td>folk</td>\n",
       "      <td>Saint-Petersburg</td>\n",
       "      <td>08:37:09</td>\n",
       "      <td>Monday</td>\n",
       "    </tr>\n",
       "    <tr>\n",
       "      <td>4</td>\n",
       "      <td>E2DC1FAE</td>\n",
       "      <td>Soul People</td>\n",
       "      <td>Space Echo</td>\n",
       "      <td>dance</td>\n",
       "      <td>Moscow</td>\n",
       "      <td>08:34:34</td>\n",
       "      <td>Monday</td>\n",
       "    </tr>\n",
       "    <tr>\n",
       "      <td>5</td>\n",
       "      <td>842029A1</td>\n",
       "      <td>Преданная</td>\n",
       "      <td>IMPERVTOR</td>\n",
       "      <td>rusrap</td>\n",
       "      <td>Saint-Petersburg</td>\n",
       "      <td>13:09:41</td>\n",
       "      <td>Friday</td>\n",
       "    </tr>\n",
       "    <tr>\n",
       "      <td>6</td>\n",
       "      <td>4CB90AA5</td>\n",
       "      <td>True</td>\n",
       "      <td>Roman Messer</td>\n",
       "      <td>dance</td>\n",
       "      <td>Moscow</td>\n",
       "      <td>13:00:07</td>\n",
       "      <td>Wednesday</td>\n",
       "    </tr>\n",
       "    <tr>\n",
       "      <td>7</td>\n",
       "      <td>F03E1C1F</td>\n",
       "      <td>Feeling This Way</td>\n",
       "      <td>Polina Griffith</td>\n",
       "      <td>dance</td>\n",
       "      <td>Moscow</td>\n",
       "      <td>20:47:49</td>\n",
       "      <td>Wednesday</td>\n",
       "    </tr>\n",
       "    <tr>\n",
       "      <td>8</td>\n",
       "      <td>8FA1D3BE</td>\n",
       "      <td>И вновь продолжается бой</td>\n",
       "      <td>NaN</td>\n",
       "      <td>ruspop</td>\n",
       "      <td>Moscow</td>\n",
       "      <td>09:17:40</td>\n",
       "      <td>Friday</td>\n",
       "    </tr>\n",
       "    <tr>\n",
       "      <td>9</td>\n",
       "      <td>E772D5C0</td>\n",
       "      <td>Pessimist</td>\n",
       "      <td>NaN</td>\n",
       "      <td>dance</td>\n",
       "      <td>Saint-Petersburg</td>\n",
       "      <td>21:20:49</td>\n",
       "      <td>Wednesday</td>\n",
       "    </tr>\n",
       "  </tbody>\n",
       "</table>\n",
       "</div>"
      ],
      "text/plain": [
       "     userID                        Track            artist   genre  \\\n",
       "0  FFB692EC            Kamigata To Boots  The Mass Missile    rock   \n",
       "1  55204538  Delayed Because of Accident  Andreas Rönnberg    rock   \n",
       "2    20EC38            Funiculì funiculà       Mario Lanza     pop   \n",
       "3  A3DD03C9        Dragons in the Sunset        Fire + Ice    folk   \n",
       "4  E2DC1FAE                  Soul People        Space Echo   dance   \n",
       "5  842029A1                    Преданная         IMPERVTOR  rusrap   \n",
       "6  4CB90AA5                         True      Roman Messer   dance   \n",
       "7  F03E1C1F             Feeling This Way   Polina Griffith   dance   \n",
       "8  8FA1D3BE     И вновь продолжается бой               NaN  ruspop   \n",
       "9  E772D5C0                    Pessimist               NaN   dance   \n",
       "\n",
       "             City        time        Day  \n",
       "0  Saint-Petersburg  20:28:33  Wednesday  \n",
       "1            Moscow  14:07:09     Friday  \n",
       "2  Saint-Petersburg  20:58:07  Wednesday  \n",
       "3  Saint-Petersburg  08:37:09     Monday  \n",
       "4            Moscow  08:34:34     Monday  \n",
       "5  Saint-Petersburg  13:09:41     Friday  \n",
       "6            Moscow  13:00:07  Wednesday  \n",
       "7            Moscow  20:47:49  Wednesday  \n",
       "8            Moscow  09:17:40     Friday  \n",
       "9  Saint-Petersburg  21:20:49  Wednesday  "
      ]
     },
     "metadata": {},
     "output_type": "display_data"
    }
   ],
   "source": [
    "display(df.head(10))# получение первых 10 строк таблицы df"
   ]
  },
  {
   "cell_type": "markdown",
   "metadata": {
    "id": "EO73Kwic_Zct"
   },
   "source": [
    "Одной командой получить общую информацию о таблице:"
   ]
  },
  {
   "cell_type": "code",
   "execution_count": 4,
   "metadata": {
    "id": "DSf2kIb-_Zct"
   },
   "outputs": [
    {
     "name": "stdout",
     "output_type": "stream",
     "text": [
      "<class 'pandas.core.frame.DataFrame'>\n",
      "RangeIndex: 65079 entries, 0 to 65078\n",
      "Data columns (total 7 columns):\n",
      "  userID    65079 non-null object\n",
      "Track       63848 non-null object\n",
      "artist      57876 non-null object\n",
      "genre       63881 non-null object\n",
      "  City      65079 non-null object\n",
      "time        65079 non-null object\n",
      "Day         65079 non-null object\n",
      "dtypes: object(7)\n",
      "memory usage: 3.5+ MB\n"
     ]
    }
   ],
   "source": [
    "df.info()# получение общей информации о данных в таблице df"
   ]
  },
  {
   "cell_type": "markdown",
   "metadata": {
    "id": "TaQ2Iwbr_Zct"
   },
   "source": [
    "Итак, в таблице семь столбцов. Тип данных во всех столбцах — `object`.\n",
    "\n",
    "Согласно документации к данным:\n",
    "* `userID` — идентификатор пользователя;\n",
    "* `Track` — название трека;  \n",
    "* `artist` — имя исполнителя;\n",
    "* `genre` — название жанра;\n",
    "* `City` — город пользователя;\n",
    "* `time` — время начала прослушивания;\n",
    "* `Day` — день недели.\n",
    "\n",
    "В названиях колонок видны три нарушения стиля:\n",
    "1. Строчные буквы сочетаются с прописными.\n",
    "2. Встречаются пробелы.\n",
    "3. Найдите ещё одну проблему в названии колонок и опишите её в этом пункте.\n",
    "\n",
    "\n",
    "\n",
    "Количество значений в столбцах различается. Значит, в данных есть пропущенные значения.\n"
   ]
  },
  {
   "cell_type": "markdown",
   "metadata": {
    "id": "MCB6-dXG_Zct"
   },
   "source": [
    "**Выводы**\n",
    "\n",
    "В каждой строке таблицы — данные о прослушанном треке. Часть колонок описывает саму композицию: название, исполнителя и жанр. Остальные данные рассказывают о пользователе: из какого он города, когда он слушал музыку. \n",
    "\n",
    "Предварительно можно утверждать, что, данных достаточно для проверки гипотез. Но встречаются пропуски в данных, а в названиях колонок — расхождения с хорошим стилем.\n",
    "\n",
    "Чтобы двигаться дальше, нужно устранить проблемы в данных."
   ]
  },
  {
   "cell_type": "markdown",
   "metadata": {
    "id": "SjYF6Ub9_Zct"
   },
   "source": [
    "## Предобработка данных\n",
    "Исправьте стиль в заголовках столбцов, исключите пропуски. Затем проверьте данные на дубликаты."
   ]
  },
  {
   "cell_type": "markdown",
   "metadata": {
    "id": "dIaKXr29_Zct"
   },
   "source": [
    "### Стиль заголовков\n",
    "Выведите на экран названия столбцов:"
   ]
  },
  {
   "cell_type": "code",
   "execution_count": 5,
   "metadata": {
    "id": "oKOTdF_Q_Zct"
   },
   "outputs": [
    {
     "data": {
      "text/plain": [
       "Index(['  userID', 'Track', 'artist', 'genre', '  City  ', 'time', 'Day'], dtype='object')"
      ]
     },
     "metadata": {},
     "output_type": "display_data"
    }
   ],
   "source": [
    "display(df.columns)# перечень названий столбцов таблицы df"
   ]
  },
  {
   "cell_type": "markdown",
   "metadata": {
    "id": "zj5534cv_Zct"
   },
   "source": [
    "Приведите названия в соответствие с хорошим стилем:\n",
    "* несколько слов в названии запишите в «змеином_регистре»,\n",
    "* все символы сделайте строчными,\n",
    "* устраните пробелы.\n",
    "\n",
    "Для этого переименуйте колонки так:\n",
    "* `'  userID'` → `'user_id'`;\n",
    "* `'Track'` → `'track'`;\n",
    "* `'  City  '` → `'city'`;\n",
    "* `'Day'` → `'day'`."
   ]
  },
  {
   "cell_type": "code",
   "execution_count": 6,
   "metadata": {
    "id": "ISlFqs5y_Zct"
   },
   "outputs": [],
   "source": [
    "header = {'  userID' : 'user_id', 'Track' : 'track', '  City  ' : 'city', 'Day' : 'day'}\n",
    "df = df.rename(columns = header)# переименование столбцов"
   ]
  },
  {
   "cell_type": "markdown",
   "metadata": {
    "id": "1dqbh00J_Zct"
   },
   "source": [
    "Проверьте результат. Для этого ещё раз выведите на экран названия столбцов:"
   ]
  },
  {
   "cell_type": "code",
   "execution_count": 7,
   "metadata": {
    "id": "d4NOAmTW_Zct"
   },
   "outputs": [
    {
     "data": {
      "text/plain": [
       "Index(['user_id', 'track', 'artist', 'genre', 'city', 'time', 'day'], dtype='object')"
      ]
     },
     "metadata": {},
     "output_type": "display_data"
    }
   ],
   "source": [
    "display(df.columns)# проверка результатов - перечень названий столбцов"
   ]
  },
  {
   "cell_type": "markdown",
   "metadata": {
    "id": "5ISfbcfY_Zct"
   },
   "source": [
    "### Пропуски значений\n",
    "Сначала посчитайте, сколько в таблице пропущенных значений. Для этого достаточно двух методов `pandas`:"
   ]
  },
  {
   "cell_type": "code",
   "execution_count": 8,
   "metadata": {
    "id": "RskX29qr_Zct"
   },
   "outputs": [
    {
     "data": {
      "text/plain": [
       "user_id       0\n",
       "track      1231\n",
       "artist     7203\n",
       "genre      1198\n",
       "city          0\n",
       "time          0\n",
       "day           0\n",
       "dtype: int64"
      ]
     },
     "execution_count": 8,
     "metadata": {},
     "output_type": "execute_result"
    }
   ],
   "source": [
    "df.isna().sum()# подсчёт пропусков"
   ]
  },
  {
   "cell_type": "markdown",
   "metadata": {
    "id": "qubhgnlO_Zct"
   },
   "source": [
    "Не все пропущенные значения влияют на исследование. Так в `track` и `artist` пропуски не важны для вашей работы. Достаточно заменить их явными обозначениями.\n",
    "\n",
    "Но пропуски в `genre` могут помешать сравнению музыкальных вкусов в Москве и Санкт-Петербурге. На практике было бы правильно установить причину пропусков и восстановить данные. Такой возможности нет в учебном проекте. Придётся:\n",
    "* заполнить и эти пропуски явными обозначениями,\n",
    "* оценить, насколько они повредят расчётам. "
   ]
  },
  {
   "cell_type": "markdown",
   "metadata": {
    "id": "fSv2laPA_Zct"
   },
   "source": [
    "Замените пропущенные значения в столбцах `track`, `artist` и `genre` на строку `'unknown'`. Для этого создайте список `columns_to_replace`, переберите его элементы циклом `for` и для каждого столбца выполните замену пропущенных значений:"
   ]
  },
  {
   "cell_type": "code",
   "execution_count": 9,
   "metadata": {
    "id": "KplB5qWs_Zct"
   },
   "outputs": [],
   "source": [
    "columns_to_replace = ['track', 'artist', 'genre']\n",
    "for column in columns_to_replace:\n",
    "    df[column] = df[column].fillna('unknown')# перебор названий столбцов в цикле и замена пропущенных значений на 'unknown'"
   ]
  },
  {
   "cell_type": "markdown",
   "metadata": {
    "id": "Ilsm-MZo_Zct"
   },
   "source": [
    "Убедитесь, что в таблице не осталось пропусков. Для этого ещё раз посчитайте пропущенные значения."
   ]
  },
  {
   "cell_type": "code",
   "execution_count": 10,
   "metadata": {
    "id": "Tq4nYRX4_Zct"
   },
   "outputs": [
    {
     "data": {
      "text/plain": [
       "user_id    0\n",
       "track      0\n",
       "artist     0\n",
       "genre      0\n",
       "city       0\n",
       "time       0\n",
       "day        0\n",
       "dtype: int64"
      ]
     },
     "execution_count": 10,
     "metadata": {},
     "output_type": "execute_result"
    }
   ],
   "source": [
    "df.isna().sum()# подсчёт пропусков"
   ]
  },
  {
   "cell_type": "markdown",
   "metadata": {
    "id": "BWKRtBJ3_Zct"
   },
   "source": [
    "### Дубликаты\n",
    "Посчитайте явные дубликаты в таблице одной командой:"
   ]
  },
  {
   "cell_type": "code",
   "execution_count": 11,
   "metadata": {
    "id": "36eES_S0_Zct"
   },
   "outputs": [
    {
     "data": {
      "text/plain": [
       "3826"
      ]
     },
     "execution_count": 11,
     "metadata": {},
     "output_type": "execute_result"
    }
   ],
   "source": [
    "df.duplicated().sum()# подсчёт явных дубликатов"
   ]
  },
  {
   "cell_type": "markdown",
   "metadata": {
    "id": "Ot25h6XR_Zct"
   },
   "source": [
    "Вызовите специальный метод `pandas`, чтобы удалить явные дубликаты:"
   ]
  },
  {
   "cell_type": "code",
   "execution_count": 12,
   "metadata": {
    "id": "exFHq6tt_Zct"
   },
   "outputs": [],
   "source": [
    "df = df.drop_duplicates().reset_index(drop=True)# удаление явных дубликатов (с удалением старых индексов и формированием новых)"
   ]
  },
  {
   "cell_type": "markdown",
   "metadata": {
    "id": "Im2YwBEG_Zct"
   },
   "source": [
    "Ещё раз посчитайте явные дубликаты в таблице — убедитесь, что полностью от них избавились:"
   ]
  },
  {
   "cell_type": "code",
   "execution_count": 13,
   "metadata": {
    "id": "-8PuNWQ0_Zct"
   },
   "outputs": [
    {
     "data": {
      "text/plain": [
       "0        False\n",
       "1        False\n",
       "2        False\n",
       "3        False\n",
       "4        False\n",
       "         ...  \n",
       "61248    False\n",
       "61249    False\n",
       "61250    False\n",
       "61251    False\n",
       "61252    False\n",
       "Length: 61253, dtype: bool"
      ]
     },
     "execution_count": 13,
     "metadata": {},
     "output_type": "execute_result"
    }
   ],
   "source": [
    "df.duplicated().sum()# проверка на отсутствие дубликатов"
   ]
  },
  {
   "cell_type": "markdown",
   "metadata": {
    "id": "QlFBsxAr_Zct"
   },
   "source": [
    "Теперь избавьтесь от неявных дубликатов в колонке `genre`. Например, название одного и того же жанра может быть записано немного по-разному. Такие ошибки тоже повлияют на результат исследования."
   ]
  },
  {
   "cell_type": "markdown",
   "metadata": {
    "id": "eSjWwsOh_Zct"
   },
   "source": [
    "Выведите на экран список уникальных названий жанров, отсортированный в алфавитном порядке. Для этого:\n",
    "* извлеките нужный столбец датафрейма, \n",
    "* примените к нему метод сортировки,\n",
    "* для отсортированного столбца вызовите метод, который вернёт уникальные значения из столбца."
   ]
  },
  {
   "cell_type": "code",
   "execution_count": 14,
   "metadata": {
    "id": "JIUcqzZN_Zct"
   },
   "outputs": [
    {
     "name": "stdout",
     "output_type": "stream",
     "text": [
      "['acid', 'acoustic', 'action', 'adult', 'africa', 'afrikaans', 'alternative', 'alternativepunk', 'ambient', 'americana', 'animated', 'anime', 'arabesk', 'arabic', 'arena', 'argentinetango', 'art', 'audiobook', 'author', 'avantgarde', 'axé', 'baile', 'balkan', 'beats', 'bigroom', 'black', 'bluegrass', 'blues', 'bollywood', 'bossa', 'brazilian', 'breakbeat', 'breaks', 'broadway', 'cantautori', 'cantopop', 'canzone', 'caribbean', 'caucasian', 'celtic', 'chamber', 'chanson', 'children', 'chill', 'chinese', 'choral', 'christian', 'christmas', 'classical', 'classicmetal', 'club', 'colombian', 'comedy', 'conjazz', 'contemporary', 'country', 'cuban', 'dance', 'dancehall', 'dancepop', 'dark', 'death', 'deep', 'deutschrock', 'deutschspr', 'dirty', 'disco', 'dnb', 'documentary', 'downbeat', 'downtempo', 'drum', 'dub', 'dubstep', 'eastern', 'easy', 'electronic', 'electropop', 'emo', 'entehno', 'epicmetal', 'estrada', 'ethnic', 'eurofolk', 'european', 'experimental', 'extrememetal', 'fado', 'fairytail', 'film', 'fitness', 'flamenco', 'folk', 'folklore', 'folkmetal', 'folkrock', 'folktronica', 'forró', 'frankreich', 'französisch', 'french', 'funk', 'future', 'gangsta', 'garage', 'german', 'ghazal', 'gitarre', 'glitch', 'gospel', 'gothic', 'grime', 'grunge', 'gypsy', 'handsup', \"hard'n'heavy\", 'hardcore', 'hardstyle', 'hardtechno', 'hip', 'hip-hop', 'hiphop', 'historisch', 'holiday', 'hop', 'horror', 'house', 'hymn', 'idm', 'independent', 'indian', 'indie', 'indipop', 'industrial', 'inspirational', 'instrumental', 'international', 'irish', 'jam', 'japanese', 'jazz', 'jewish', 'jpop', 'jungle', 'k-pop', 'karadeniz', 'karaoke', 'kayokyoku', 'korean', 'laiko', 'latin', 'latino', 'leftfield', 'local', 'lounge', 'loungeelectronic', 'lovers', 'malaysian', 'mandopop', 'marschmusik', 'meditative', 'mediterranean', 'melodic', 'metal', 'metalcore', 'mexican', 'middle', 'minimal', 'miscellaneous', 'modern', 'mood', 'mpb', 'muslim', 'native', 'neoklassik', 'neue', 'new', 'newage', 'newwave', 'nu', 'nujazz', 'numetal', 'oceania', 'old', 'opera', 'orchestral', 'other', 'piano', 'podcasts', 'pop', 'popdance', 'popelectronic', 'popeurodance', 'poprussian', 'post', 'posthardcore', 'postrock', 'power', 'progmetal', 'progressive', 'psychedelic', 'punjabi', 'punk', 'quebecois', 'ragga', 'ram', 'rancheras', 'rap', 'rave', 'reggae', 'reggaeton', 'regional', 'relax', 'religious', 'retro', 'rhythm', 'rnb', 'rnr', 'rock', 'rockabilly', 'rockalternative', 'rockindie', 'rockother', 'romance', 'roots', 'ruspop', 'rusrap', 'rusrock', 'russian', 'salsa', 'samba', 'scenic', 'schlager', 'self', 'sertanejo', 'shanson', 'shoegazing', 'showtunes', 'singer', 'ska', 'skarock', 'slow', 'smooth', 'soft', 'soul', 'soulful', 'sound', 'soundtrack', 'southern', 'specialty', 'speech', 'spiritual', 'sport', 'stonerrock', 'surf', 'swing', 'synthpop', 'synthrock', 'sängerportrait', 'tango', 'tanzorchester', 'taraftar', 'tatar', 'tech', 'techno', 'teen', 'thrash', 'top', 'traditional', 'tradjazz', 'trance', 'tribal', 'trip', 'triphop', 'tropical', 'türk', 'türkçe', 'ukrrock', 'unknown', 'urban', 'uzbek', 'variété', 'vi', 'videogame', 'vocal', 'western', 'world', 'worldbeat', 'ïîï', 'электроника']\n"
     ]
    }
   ],
   "source": [
    "print(sorted(df['genre'].unique()))# Просмотр уникальных названий жанров"
   ]
  },
  {
   "cell_type": "markdown",
   "metadata": {
    "id": "qej-Qmuo_Zct"
   },
   "source": [
    "Просмотрите список и найдите неявные дубликаты названия `hiphop`. Это могут быть названия с ошибками или альтернативные названия того же жанра.\n",
    "\n",
    "Вы увидите следующие неявные дубликаты:\n",
    "* *hip*,\n",
    "* *hop*,\n",
    "* *hip-hop*.\n",
    "\n",
    "Чтобы очистить от них таблицу, напишите функцию `replace_wrong_genres()` с двумя параметрами: \n",
    "* `wrong_genres` — список дубликатов,\n",
    "* `correct_genre` — строка с правильным значением.\n",
    "\n",
    "Функция должна исправить колонку `genre` в таблице `df`: заменить каждое значение из списка `wrong_genres` на значение из `correct_genre`."
   ]
  },
  {
   "cell_type": "code",
   "execution_count": 15,
   "metadata": {
    "id": "ErNDkmns_Zct"
   },
   "outputs": [],
   "source": [
    "def replace_wrong_genres (wrong_genres, correct_genres):\n",
    "    for wrong_genre in wrong_genres:\n",
    "        df['genre'] = df['genre'].replace(wrong_genres, correct_genres)\n",
    "wrong_genres = ['hip', 'hop', 'hip-hop']\n",
    "correct_genre = 'hip-hop'\n",
    "\n",
    "\n",
    "# Функция для замены неявных дубликатов"
   ]
  },
  {
   "cell_type": "markdown",
   "metadata": {
    "id": "aDoBJxbA_Zct"
   },
   "source": [
    "Вызовите `replace_wrong_genres()` и передайте ей такие аргументы, чтобы она устранила неявные дубликаты: вместо `hip`, `hop` и `hip-hop` в таблице должно быть значение `hiphop`:"
   ]
  },
  {
   "cell_type": "code",
   "execution_count": 16,
   "metadata": {
    "id": "YN5i2hpmSo09"
   },
   "outputs": [],
   "source": [
    "replace_wrong_genres(wrong_genres, correct_genre)# Устранение неявных дубликатов"
   ]
  },
  {
   "cell_type": "markdown",
   "metadata": {
    "id": "zQKF16_RG15m"
   },
   "source": [
    "Проверьте, что заменили неправильные названия:\n",
    "\n",
    "*   hip\n",
    "*   hop\n",
    "*   hip-hop\n",
    "\n",
    "Выведите отсортированный список уникальных значений столбца `genre`:"
   ]
  },
  {
   "cell_type": "code",
   "execution_count": 17,
   "metadata": {
    "id": "wvixALnFG15m"
   },
   "outputs": [
    {
     "data": {
      "text/plain": [
       "array(['rock', 'pop', 'folk', 'dance', 'rusrap', 'ruspop', 'world',\n",
       "       'electronic', 'unknown', 'alternative', 'children', 'rnb',\n",
       "       'hip-hop', 'jazz', 'postrock', 'latin', 'classical', 'metal',\n",
       "       'reggae', 'tatar', 'blues', 'instrumental', 'rusrock', 'dnb',\n",
       "       'türk', 'post', 'country', 'psychedelic', 'conjazz', 'indie',\n",
       "       'posthardcore', 'local', 'avantgarde', 'punk', 'videogame',\n",
       "       'techno', 'house', 'christmas', 'melodic', 'caucasian',\n",
       "       'reggaeton', 'soundtrack', 'singer', 'ska', 'shanson', 'ambient',\n",
       "       'film', 'western', 'rap', 'beats', \"hard'n'heavy\", 'progmetal',\n",
       "       'minimal', 'contemporary', 'new', 'soul', 'holiday', 'german',\n",
       "       'tropical', 'fairytail', 'spiritual', 'urban', 'gospel', 'nujazz',\n",
       "       'folkmetal', 'trance', 'miscellaneous', 'anime', 'hardcore',\n",
       "       'progressive', 'chanson', 'numetal', 'vocal', 'estrada', 'russian',\n",
       "       'classicmetal', 'dubstep', 'club', 'deep', 'southern', 'black',\n",
       "       'folkrock', 'fitness', 'french', 'disco', 'religious', 'hiphop',\n",
       "       'drum', 'extrememetal', 'türkçe', 'experimental', 'easy',\n",
       "       'metalcore', 'modern', 'argentinetango', 'old', 'breaks',\n",
       "       'eurofolk', 'stonerrock', 'industrial', 'funk', 'jpop', 'middle',\n",
       "       'variété', 'other', 'adult', 'christian', 'gothic',\n",
       "       'international', 'muslim', 'relax', 'schlager', 'caribbean',\n",
       "       'ukrrock', 'nu', 'breakbeat', 'comedy', 'chill', 'newage',\n",
       "       'specialty', 'uzbek', 'k-pop', 'balkan', 'chinese', 'meditative',\n",
       "       'dub', 'power', 'death', 'grime', 'arabesk', 'romance', 'flamenco',\n",
       "       'leftfield', 'european', 'tech', 'newwave', 'dancehall', 'mpb',\n",
       "       'piano', 'top', 'bigroom', 'opera', 'celtic', 'tradjazz',\n",
       "       'acoustic', 'epicmetal', 'historisch', 'downbeat', 'downtempo',\n",
       "       'africa', 'audiobook', 'jewish', 'sängerportrait', 'deutschrock',\n",
       "       'eastern', 'action', 'future', 'electropop', 'folklore',\n",
       "       'bollywood', 'marschmusik', 'rnr', 'karaoke', 'indian',\n",
       "       'rancheras', 'электроника', 'afrikaans', 'tango', 'rhythm',\n",
       "       'sound', 'deutschspr', 'trip', 'lovers', 'choral', 'dancepop',\n",
       "       'podcasts', 'retro', 'smooth', 'mexican', 'brazilian', 'ïîï',\n",
       "       'mood', 'surf', 'author', 'gangsta', 'triphop', 'inspirational',\n",
       "       'idm', 'ethnic', 'bluegrass', 'broadway', 'animated', 'americana',\n",
       "       'karadeniz', 'rockabilly', 'colombian', 'self', 'synthrock',\n",
       "       'sertanejo', 'japanese', 'canzone', 'swing', 'lounge', 'sport',\n",
       "       'korean', 'ragga', 'traditional', 'gitarre', 'frankreich',\n",
       "       'alternativepunk', 'emo', 'laiko', 'cantopop', 'glitch',\n",
       "       'documentary', 'rockalternative', 'thrash', 'hymn', 'oceania',\n",
       "       'rockother', 'popeurodance', 'dark', 'vi', 'grunge', 'hardstyle',\n",
       "       'samba', 'garage', 'soft', 'art', 'folktronica', 'entehno',\n",
       "       'mediterranean', 'chamber', 'cuban', 'taraftar', 'rockindie',\n",
       "       'gypsy', 'hardtechno', 'shoegazing', 'skarock', 'bossa', 'salsa',\n",
       "       'latino', 'worldbeat', 'malaysian', 'baile', 'ghazal',\n",
       "       'loungeelectronic', 'arabic', 'popelectronic', 'acid', 'kayokyoku',\n",
       "       'neoklassik', 'tribal', 'tanzorchester', 'native', 'independent',\n",
       "       'cantautori', 'handsup', 'poprussian', 'punjabi', 'synthpop',\n",
       "       'rave', 'französisch', 'quebecois', 'speech', 'soulful', 'teen',\n",
       "       'jam', 'ram', 'horror', 'scenic', 'orchestral', 'neue', 'roots',\n",
       "       'slow', 'jungle', 'indipop', 'axé', 'fado', 'showtunes', 'arena',\n",
       "       'irish', 'mandopop', 'forró', 'popdance', 'dirty', 'regional'],\n",
       "      dtype=object)"
      ]
     },
     "execution_count": 17,
     "metadata": {},
     "output_type": "execute_result"
    }
   ],
   "source": [
    "df['genre'].sort_value().unique()# Проверка на неявные дубликаты"
   ]
  },
  {
   "cell_type": "markdown",
   "metadata": {
    "id": "jz6a9-7HQUDd"
   },
   "source": [
    "**Выводы**\n",
    "\n",
    "Предобработка обнаружила три проблемы в данных:\n",
    "\n",
    "- нарушения в стиле заголовков,\n",
    "- пропущенные значения,\n",
    "- дубликаты — явные и неявные.\n",
    "\n",
    "Вы исправили заголовки, чтобы упростить работу с таблицей. Без дубликатов исследование станет более точным.\n",
    "\n",
    "Пропущенные значения вы заменили на `'unknown'`. Ещё предстоит увидеть, не повредят ли исследованию пропуски в колонке `genre`.\n",
    "\n",
    "Теперь можно перейти к проверке гипотез. "
   ]
  },
  {
   "cell_type": "markdown",
   "metadata": {
    "id": "WttZHXH0SqKk"
   },
   "source": [
    "## Проверка гипотез"
   ]
  },
  {
   "cell_type": "markdown",
   "metadata": {
    "id": "Im936VVi_Zcu"
   },
   "source": [
    "### Сравнение поведения пользователей двух столиц"
   ]
  },
  {
   "cell_type": "markdown",
   "metadata": {
    "id": "nwt_MuaL_Zcu"
   },
   "source": [
    "Первая гипотеза утверждает, что пользователи по-разному слушают музыку в Москве и Санкт-Петербурге. Проверьте это предположение по данным о трёх днях недели — понедельнике, среде и пятнице. Для этого:\n",
    "\n",
    "* Разделите пользователей Москвы и Санкт-Петербурга\n",
    "* Сравните, сколько треков послушала каждая группа пользователей в понедельник, среду и пятницу.\n"
   ]
  },
  {
   "cell_type": "markdown",
   "metadata": {
    "id": "8Dw_YMmT_Zcu"
   },
   "source": [
    "Для тренировки сначала выполните каждый из расчётов по отдельности. \n",
    "\n",
    "Оцените активность пользователей в каждом городе. Сгруппируйте данные по городу и посчитайте прослушивания в каждой группе.\n",
    "\n"
   ]
  },
  {
   "cell_type": "code",
   "execution_count": 18,
   "metadata": {
    "id": "0_Qs96oh_Zcu"
   },
   "outputs": [],
   "source": [
    "Moscow = df.groupby('city')['genre'].count()\n",
    "\n",
    "Saint_Petersburg = df.groupby('city')['genre'].count()\n",
    "\n",
    "#Подсчёт прослушиваний в каждом городе"
   ]
  },
  {
   "cell_type": "markdown",
   "metadata": {
    "id": "dzli3w8o_Zcu"
   },
   "source": [
    "В Москве прослушиваний больше, чем в Петербурге. Из этого не следует, что московские пользователи чаще слушают музыку. Просто самих пользователей в Москве больше.\n",
    "\n",
    "Теперь сгруппируйте данные по дню недели и подсчитайте прослушивания в понедельник, среду и пятницу. Учтите, что в данных есть информация только о прослушиваниях только за эти дни.\n"
   ]
  },
  {
   "cell_type": "code",
   "execution_count": 19,
   "metadata": {
    "id": "uZMKjiJz_Zcu"
   },
   "outputs": [
    {
     "data": {
      "text/plain": [
       "day\n",
       "Friday       21840\n",
       "Monday       21354\n",
       "Wednesday    18059\n",
       "Name: genre, dtype: int64"
      ]
     },
     "execution_count": 19,
     "metadata": {},
     "output_type": "execute_result"
    }
   ],
   "source": [
    "df.groupby('day')['genre'].count()# Подсчёт прослушиваний в каждый из трёх дней"
   ]
  },
  {
   "cell_type": "markdown",
   "metadata": {
    "id": "cC2tNrlL_Zcu"
   },
   "source": [
    "В среднем пользователи из двух городов менее активны по средам. Но картина может измениться, если рассмотреть каждый город в отдельности."
   ]
  },
  {
   "cell_type": "markdown",
   "metadata": {
    "id": "POzs8bGa_Zcu"
   },
   "source": [
    "Вы видели, как работает группировка по городу и по дням недели. Теперь напишите функцию, которая объединит два эти расчёта.\n",
    "\n",
    "Создайте функцию `number_tracks()`, которая посчитает прослушивания для заданного дня и города. Ей понадобятся два параметра:\n",
    "* день недели,\n",
    "* название города.\n",
    "\n",
    "В функции сохраните в переменную строки исходной таблицы, у которых значение:\n",
    "  * в колонке `day` равно параметру `day`,\n",
    "  * в колонке `city` равно параметру `city`.\n",
    "\n",
    "Для этого примените последовательную фильтрацию с логической индексацией.\n",
    "\n",
    "Затем посчитайте значения в столбце `user_id` получившейся таблицы. Результат сохраните в новую переменную. Верните эту переменную из функции."
   ]
  },
  {
   "cell_type": "code",
   "execution_count": 20,
   "metadata": {
    "id": "Nz3GdQB1_Zcu"
   },
   "outputs": [],
   "source": [
    "def number_tracks (day,city):\n",
    "    track_list = df[df['day'] == day]\n",
    "    track_list = track_list[track_list['city'] == city]\n",
    "    track_list_count = track_list['user_id'].count()\n",
    "    return track_list_count\n",
    "\n",
    "\n",
    "\n",
    "\n",
    "\n",
    "\n",
    "\n",
    "\n",
    "\n",
    "\n",
    "# <создание функции number_tracks()>\n",
    "# Объявляется функция с двумя параметрами: day, city.\n",
    "# В переменной track_list сохраняются те строки таблицы df, для которых \n",
    "# значение в столбце 'day' равно параметру day и одновременно значение\n",
    "# в столбце 'city' равно параметру city (используйте последовательную фильтрацию\n",
    "# с помощью логической индексации).\n",
    "# В переменной track_list_count сохраняется число значений столбца 'user_id',\n",
    "# рассчитанное методом count() для таблицы track_list.\n",
    "# Функция возвращает число - значение track_list_count.\n",
    "\n",
    "# Функция для подсчёта прослушиваний для конкретного города и дня.\n",
    "# С помощью последовательной фильтрации с логической индексацией она \n",
    "# сначала получит из исходной таблицы строки с нужным днём,\n",
    "# затем из результата отфильтрует строки с нужным городом,\n",
    "# методом count() посчитает количество значений в колонке user_id. \n",
    "# Это количество функция вернёт в качестве результата"
   ]
  },
  {
   "cell_type": "markdown",
   "metadata": {
    "id": "ytf7xFrFJQ2r"
   },
   "source": [
    "Вызовите `number_tracks()` шесть раз, меняя значение параметров — так, чтобы получить данные для каждого города в каждый из трёх дней."
   ]
  },
  {
   "cell_type": "code",
   "execution_count": 21,
   "metadata": {
    "id": "rJcRATNQ_Zcu"
   },
   "outputs": [
    {
     "data": {
      "text/plain": [
       "15740"
      ]
     },
     "metadata": {},
     "output_type": "display_data"
    }
   ],
   "source": [
    "moscow_monday_listen = number_tracks('Monday', 'Moscow') \n",
    "display(moscow_monday_listen)# количество прослушиваний в Москве по понедельникам"
   ]
  },
  {
   "cell_type": "code",
   "execution_count": 22,
   "metadata": {
    "id": "hq_ncZ5T_Zcu"
   },
   "outputs": [
    {
     "data": {
      "text/plain": [
       "5614"
      ]
     },
     "metadata": {},
     "output_type": "display_data"
    }
   ],
   "source": [
    "saint_petersburg_monday_listen = number_tracks('Monday', 'Saint-Petersburg')\n",
    "display(saint_petersburg_monday_listen)# количество прослушиваний в Санкт-Петербурге по понедельникам"
   ]
  },
  {
   "cell_type": "code",
   "execution_count": 23,
   "metadata": {
    "id": "_NTy2VPU_Zcu"
   },
   "outputs": [
    {
     "data": {
      "text/plain": [
       "11056"
      ]
     },
     "metadata": {},
     "output_type": "display_data"
    }
   ],
   "source": [
    "moscow_wednesday_listen = number_tracks('Wednesday', 'Moscow') \n",
    "display(moscow_wednesday_listen)# количество прослушиваний в Москве по средам"
   ]
  },
  {
   "cell_type": "code",
   "execution_count": 24,
   "metadata": {
    "id": "j2y3TAwo_Zcu"
   },
   "outputs": [
    {
     "data": {
      "text/plain": [
       "7003"
      ]
     },
     "metadata": {},
     "output_type": "display_data"
    }
   ],
   "source": [
    "saint_petersburg_wednesday_listen = number_tracks('Wednesday', 'Saint-Petersburg')\n",
    "display(saint_petersburg_wednesday_listen)# количество прослушиваний в Санкт-Петербурге по средам"
   ]
  },
  {
   "cell_type": "code",
   "execution_count": 25,
   "metadata": {
    "id": "vYDw5u_K_Zcu"
   },
   "outputs": [
    {
     "data": {
      "text/plain": [
       "15945"
      ]
     },
     "metadata": {},
     "output_type": "display_data"
    }
   ],
   "source": [
    "moscow_friday_listen = number_tracks('Friday', 'Moscow') \n",
    "display(moscow_friday_listen)# количество прослушиваний в Москве по пятницам"
   ]
  },
  {
   "cell_type": "code",
   "execution_count": 26,
   "metadata": {
    "id": "8_yzFtW3_Zcu"
   },
   "outputs": [
    {
     "data": {
      "text/plain": [
       "5895"
      ]
     },
     "metadata": {},
     "output_type": "display_data"
    }
   ],
   "source": [
    "saint_petersburg_friday_listen = number_tracks('Friday', 'Saint-Petersburg')\n",
    "display(saint_petersburg_friday_listen)# количество прослушиваний в Санкт-Петербурге по пятницам"
   ]
  },
  {
   "cell_type": "markdown",
   "metadata": {
    "id": "7QXffbO-_Zcu"
   },
   "source": [
    "Создайте c помощью конструктора `pd.DataFrame` таблицу, где\n",
    "* названия колонок — `['city', 'monday', 'wednesday', 'friday']`;\n",
    "* данные — результаты, которые вы получили с помощью `number_tracks`."
   ]
  },
  {
   "cell_type": "code",
   "execution_count": 27,
   "metadata": {
    "id": "APAcLpOr_Zcu"
   },
   "outputs": [
    {
     "data": {
      "text/html": [
       "<div>\n",
       "<style scoped>\n",
       "    .dataframe tbody tr th:only-of-type {\n",
       "        vertical-align: middle;\n",
       "    }\n",
       "\n",
       "    .dataframe tbody tr th {\n",
       "        vertical-align: top;\n",
       "    }\n",
       "\n",
       "    .dataframe thead th {\n",
       "        text-align: right;\n",
       "    }\n",
       "</style>\n",
       "<table border=\"1\" class=\"dataframe\">\n",
       "  <thead>\n",
       "    <tr style=\"text-align: right;\">\n",
       "      <th></th>\n",
       "      <th>city</th>\n",
       "      <th>monday</th>\n",
       "      <th>wednesday</th>\n",
       "      <th>friday</th>\n",
       "    </tr>\n",
       "  </thead>\n",
       "  <tbody>\n",
       "    <tr>\n",
       "      <td>0</td>\n",
       "      <td>Moscow</td>\n",
       "      <td>15740</td>\n",
       "      <td>11056</td>\n",
       "      <td>15945</td>\n",
       "    </tr>\n",
       "    <tr>\n",
       "      <td>1</td>\n",
       "      <td>Saint-Petersburg</td>\n",
       "      <td>5614</td>\n",
       "      <td>7003</td>\n",
       "      <td>5895</td>\n",
       "    </tr>\n",
       "  </tbody>\n",
       "</table>\n",
       "</div>"
      ],
      "text/plain": [
       "               city  monday  wednesday  friday\n",
       "0            Moscow   15740      11056   15945\n",
       "1  Saint-Petersburg    5614       7003    5895"
      ]
     },
     "metadata": {},
     "output_type": "display_data"
    }
   ],
   "source": [
    "number_tracks = [\n",
    "    ['Moscow', 15740, 11056, 15945], ['Saint-Petersburg', 5614, 7003, 5895]\n",
    "]\n",
    "header = ['city', 'monday', 'wednesday', 'friday']\n",
    "df_sorted_city_day = pd.DataFrame(data=number_tracks, columns=header)\n",
    "display(df_sorted_city_day)# Таблица с результатами"
   ]
  },
  {
   "cell_type": "markdown",
   "metadata": {
    "id": "atZAxtq4_Zcu"
   },
   "source": [
    "### Музыка в начале и в конце недели"
   ]
  },
  {
   "cell_type": "markdown",
   "metadata": {
    "id": "eXrQqXFH_Zcu"
   },
   "source": [
    "Согласно второй гипотезе, утром в понедельник в Москве преобладают одни жанры, а в Петербурге — другие. Так же и вечером пятницы преобладают разные жанры — в зависимости от города."
   ]
  },
  {
   "cell_type": "markdown",
   "metadata": {
    "id": "S8UcW6Hw_Zcu"
   },
   "source": [
    "Сохраните таблицы с данными в две переменные:\n",
    "* по Москве — в `moscow_general`;\n",
    "* по Санкт-Петербургу — в `spb_general`."
   ]
  },
  {
   "cell_type": "code",
   "execution_count": 28,
   "metadata": {
    "id": "qeaFfM_P_Zcu"
   },
   "outputs": [],
   "source": [
    "moscow_general = df[df['city'] == 'Moscow']# получение таблицы moscow_general из тех строк таблицы df, \n",
    "# для которых значение в столбце 'city' равно 'Moscow'\n"
   ]
  },
  {
   "cell_type": "code",
   "execution_count": 29,
   "metadata": {
    "id": "ORaVRKto_Zcu"
   },
   "outputs": [],
   "source": [
    "spb_general = df[df['city'] == 'Saint-Petersburg']# получение таблицы spb_general из тех строк таблицы df,\n",
    "# для которых значение в столбце 'city' равно 'Saint-Petersburg'\n"
   ]
  },
  {
   "cell_type": "markdown",
   "metadata": {
    "id": "MEJV-CX2_Zcu"
   },
   "source": [
    "Создайте функцию `genre_weekday()` с четырьмя параметрами:\n",
    "* таблица (датафрейм) с данными,\n",
    "* день недели,\n",
    "* начальная временная метка в формате 'hh:mm', \n",
    "* последняя временная метка в формате 'hh:mm'.\n",
    "\n",
    "Функция должна вернуть информацию о топ-10 жанров тех треков, которые прослушивали в указанный день, в промежутке между двумя отметками времени."
   ]
  },
  {
   "cell_type": "code",
   "execution_count": 30,
   "metadata": {
    "id": "laJT9BYl_Zcu"
   },
   "outputs": [],
   "source": [
    "def genre_weekday(table, day, time1, time2):\n",
    "    genre_df = table[table['day'] == day]\n",
    "    genre_df = genre_df[genre_df['time'] > time1]\n",
    "    genre_df = genre_df[genre_df['time'] < time2]\n",
    "    genre_df_count = genre_df.groupby('genre')['genre'].count()\n",
    "    genre_df_sorted = genre_df_count.sort_values(ascending=False)\n",
    "    return genre_df_sorted.head(10)\n",
    "\n",
    "\n",
    "\n",
    "\n",
    "\n",
    "# Объявление функции genre_weekday() с параметрами table, day, time1, time2,\n",
    "# которая возвращает информацию о самых популярных жанрах в указанный день в\n",
    "# заданное время:\n",
    "# 1) в переменную genre_df сохраняются те строки переданного датафрейма table, для\n",
    "#    которых одновременно:\n",
    "#    - значение в столбце day равно значению аргумента day\n",
    "#    - значение в столбце time больше значения аргумента time1\n",
    "#    - значение в столбце time меньше значения аргумента time2\n",
    "#    Используйте последовательную фильтрацию с помощью логической индексации.\n",
    "# 2) сгруппировать датафрейм genre_df по столбцу genre, взять один из его\n",
    "#    столбцов и посчитать методом count() количество записей для каждого из\n",
    "#    присутствующих жанров, получившийся Series записать в переменную\n",
    "#    genre_df_count\n",
    "# 3) отсортировать genre_df_count по убыванию встречаемости и сохранить\n",
    "#    в переменную genre_df_sorted\n",
    "# 4) вернуть Series из 10 первых значений genre_df_sorted, это будут топ-10\n",
    "#    популярных жанров (в указанный день, в заданное время)"
   ]
  },
  {
   "cell_type": "markdown",
   "metadata": {
    "id": "la2s2_PF_Zcu"
   },
   "source": [
    "Cравните результаты функции `genre_weekday()` для Москвы и Санкт-Петербурга в понедельник утром (с 7:00 до 11:00) и в пятницу вечером (с 17:00 до 23:00):"
   ]
  },
  {
   "cell_type": "code",
   "execution_count": 31,
   "metadata": {
    "id": "yz7itPUQ_Zcu"
   },
   "outputs": [
    {
     "data": {
      "text/plain": [
       "genre\n",
       "pop            781\n",
       "dance          549\n",
       "electronic     480\n",
       "rock           474\n",
       "hip-hop        282\n",
       "ruspop         186\n",
       "world          181\n",
       "rusrap         175\n",
       "alternative    164\n",
       "unknown        161\n",
       "Name: genre, dtype: int64"
      ]
     },
     "metadata": {},
     "output_type": "display_data"
    }
   ],
   "source": [
    "display(genre_weekday(moscow_general, 'Monday', '07:00', '11:00'))# вызов функции для утра понедельника в Москве (вместо df — таблица moscow_general)\n",
    "# объекты, хранящие время, являются строками и сравниваются как строки\n",
    "# пример вызова: genre_weekday(moscow_general, 'Monday', '07:00', '11:00')"
   ]
  },
  {
   "cell_type": "code",
   "execution_count": 32,
   "metadata": {
    "id": "kwUcHPdy_Zcu"
   },
   "outputs": [
    {
     "data": {
      "text/plain": [
       "genre\n",
       "pop            218\n",
       "dance          182\n",
       "rock           162\n",
       "electronic     147\n",
       "hip-hop         79\n",
       "ruspop          64\n",
       "alternative     58\n",
       "rusrap          55\n",
       "jazz            44\n",
       "classical       40\n",
       "Name: genre, dtype: int64"
      ]
     },
     "metadata": {},
     "output_type": "display_data"
    }
   ],
   "source": [
    "display(genre_weekday(spb_general, 'Monday', '07:00', '11:00'))\n",
    "# вызов функции для утра понедельника в Петербурге (вместо df — таблица spb_general)"
   ]
  },
  {
   "cell_type": "code",
   "execution_count": 33,
   "metadata": {
    "id": "EzXVRE1o_Zcu"
   },
   "outputs": [
    {
     "data": {
      "text/plain": [
       "genre\n",
       "pop            713\n",
       "rock           517\n",
       "dance          495\n",
       "electronic     482\n",
       "hip-hop        267\n",
       "world          208\n",
       "ruspop         170\n",
       "alternative    163\n",
       "classical      163\n",
       "rusrap         142\n",
       "Name: genre, dtype: int64"
      ]
     },
     "metadata": {},
     "output_type": "display_data"
    }
   ],
   "source": [
    "display(genre_weekday(moscow_general, 'Friday', '17:00', '23:00'))# вызов функции для вечера пятницы в Москве"
   ]
  },
  {
   "cell_type": "code",
   "execution_count": 34,
   "metadata": {
    "id": "JZaEKu5v_Zcu"
   },
   "outputs": [
    {
     "data": {
      "text/plain": [
       "genre\n",
       "pop            256\n",
       "electronic     216\n",
       "rock           216\n",
       "dance          210\n",
       "hip-hop         94\n",
       "alternative     63\n",
       "jazz            61\n",
       "classical       60\n",
       "rusrap          59\n",
       "world           54\n",
       "Name: genre, dtype: int64"
      ]
     },
     "metadata": {},
     "output_type": "display_data"
    }
   ],
   "source": [
    "display(genre_weekday(spb_general, 'Friday', '17:00', '23:00'))# вызов функции для вечера пятницы в Петербурге"
   ]
  },
  {
   "cell_type": "markdown",
   "metadata": {
    "id": "wrCe4MNX_Zcu"
   },
   "source": [
    "**Выводы**\n",
    "\n",
    "Если сравнить топ-10 жанров в понедельник утром, можно сделать такие выводы:\n",
    "\n",
    "1. В Москве и Петербурге слушают похожую музыку. Единственное отличие — в московский рейтинг вошёл жанр “world”, а в петербургский — джаз и классика.\n",
    "\n",
    "2. В Москве пропущенных значений оказалось так много, что значение `'unknown'` заняло десятое место среди самых популярных жанров. Значит, пропущенные значения занимают существенную долю в данных и угрожают достоверности исследования.\n",
    "\n",
    "Вечер пятницы не меняет эту картину. Некоторые жанры поднимаются немного выше, другие спускаются, но в целом топ-10 остаётся тем же самым.\n",
    "\n",
    "Таким образом, вторая гипотеза подтвердилась лишь частично:\n",
    "* Пользователи слушают похожую музыку в начале недели и в конце.\n",
    "* Разница между Москвой и Петербургом не слишком выражена. В Москве чаще слушают русскую популярную музыку, в Петербурге — джаз.\n",
    "\n",
    "Однако пропуски в данных ставят под сомнение этот результат. В Москве их так много, что рейтинг топ-10 мог бы выглядеть иначе, если бы не утерянные  данные о жанрах."
   ]
  },
  {
   "cell_type": "markdown",
   "metadata": {
    "id": "JolODAqr_Zcu"
   },
   "source": [
    "### Жанровые предпочтения в Москве и Петербурге\n",
    "\n",
    "Гипотеза: Петербург — столица рэпа, музыку этого жанра там слушают чаще, чем в Москве.  А Москва — город контрастов, в котором, тем не менее, преобладает поп-музыка."
   ]
  },
  {
   "cell_type": "markdown",
   "metadata": {
    "id": "DlegSvaT_Zcu"
   },
   "source": [
    "Сгруппируйте таблицу `moscow_general` по жанру и посчитайте прослушивания треков каждого жанра методом `count()`. Затем отсортируйте результат в порядке убывания и сохраните его в таблице `moscow_genres`."
   ]
  },
  {
   "cell_type": "code",
   "execution_count": 35,
   "metadata": {
    "id": "r19lIPke_Zcu"
   },
   "outputs": [],
   "source": [
    "moscow_genres = moscow_general.groupby('genre')['track'].count().sort_values(ascending=False)\n",
    "# одной строкой: группировка таблицы moscow_general по столбцу 'genre', \n",
    "# подсчёт числа значений 'genre' в этой группировке методом count(), \n",
    "# сортировка получившегося Series в порядке убывания и сохранение в moscow_genres"
   ]
  },
  {
   "cell_type": "markdown",
   "metadata": {
    "id": "6kMuomxTiIr8"
   },
   "source": [
    "Выведите на экран первые десять строк `moscow_genres`:"
   ]
  },
  {
   "cell_type": "code",
   "execution_count": 36,
   "metadata": {
    "id": "WhCSooF8_Zcv"
   },
   "outputs": [
    {
     "data": {
      "text/plain": [
       "genre\n",
       "pop            5892\n",
       "dance          4435\n",
       "rock           3965\n",
       "electronic     3786\n",
       "hip-hop        2043\n",
       "classical      1616\n",
       "world          1432\n",
       "alternative    1379\n",
       "ruspop         1372\n",
       "rusrap         1161\n",
       "Name: track, dtype: int64"
      ]
     },
     "metadata": {},
     "output_type": "display_data"
    }
   ],
   "source": [
    "display(moscow_genres.head(10))# просмотр первых 10 строк moscow_genres"
   ]
  },
  {
   "cell_type": "markdown",
   "metadata": {
    "id": "cnPG2vnN_Zcv"
   },
   "source": [
    "Теперь повторите то же и для Петербурга.\n",
    "\n",
    "Сгруппируйте таблицу `spb_general` по жанру. Посчитайте прослушивания треков каждого жанра. Результат отсортируйте в порядке убывания и сохраните в таблице `spb_genres`:\n"
   ]
  },
  {
   "cell_type": "code",
   "execution_count": 37,
   "metadata": {
    "id": "gluLIpE7_Zcv"
   },
   "outputs": [],
   "source": [
    "spb_genres = spb_general.groupby('genre')['track'].count().sort_values(ascending=False)# одной строкой: группировка таблицы spb_general по столбцу 'genre', \n",
    "# подсчёт числа значений 'genre' в этой группировке методом count(), \n",
    "# сортировка получившегося Series в порядке убывания и сохранение в spb_genres"
   ]
  },
  {
   "cell_type": "markdown",
   "metadata": {
    "id": "5Doha_ODgyQ8"
   },
   "source": [
    "Выведите на экран первые десять строк `spb_genres`:"
   ]
  },
  {
   "cell_type": "code",
   "execution_count": 38,
   "metadata": {
    "id": "uaGJHjVU_Zcv"
   },
   "outputs": [
    {
     "data": {
      "text/plain": [
       "genre\n",
       "pop            2431\n",
       "dance          1932\n",
       "rock           1879\n",
       "electronic     1736\n",
       "hip-hop         934\n",
       "alternative     649\n",
       "classical       646\n",
       "rusrap          564\n",
       "ruspop          538\n",
       "world           515\n",
       "Name: track, dtype: int64"
      ]
     },
     "metadata": {},
     "output_type": "display_data"
    }
   ],
   "source": [
    "display(spb_genres.head(10))# просмотр первых 10 строк spb_genres"
   ]
  },
  {
   "cell_type": "markdown",
   "metadata": {
    "id": "RY51YJYu_Zcv"
   },
   "source": [
    "**Выводы**"
   ]
  },
  {
   "cell_type": "markdown",
   "metadata": {
    "id": "nVhnJEm__Zcv"
   },
   "source": [
    "Гипотеза частично подтвердилась:\n",
    "* Поп-музыка — самый популярный жанр в Москве, как и предполагала гипотеза. Более того, в топ-10 жанров встречается близкий жанр — русская популярная музыка.\n",
    "* Вопреки ожиданиям, рэп одинаково популярен в Москве и Петербурге. \n"
   ]
  },
  {
   "cell_type": "markdown",
   "metadata": {
    "id": "ykKQ0N65_Zcv"
   },
   "source": [
    "## Итоги исследования"
   ]
  },
  {
   "cell_type": "markdown",
   "metadata": {
    "id": "tjUwbHb3_Zcv"
   },
   "source": [
    "Вы проверили три гипотезы и установили:\n",
    "\n",
    "1. День недели по-разному влияет на активность пользователей в Москве и Петербурге. \n",
    "\n",
    "Первая гипотеза полностью подтвердилась.\n",
    "\n",
    "2. Музыкальные предпочтения не сильно меняются в течение недели — будь то Москва или Петербург. Небольшие различия заметны в начале недели, по понедельникам:\n",
    "* в Москве слушают музыку жанра “world”,\n",
    "* в Петербурге — джаз и классику.\n",
    "\n",
    "Таким образом, вторая гипотеза подтвердилась лишь отчасти. Этот результат мог оказаться иным, если бы не пропуски в данных.\n",
    "\n",
    "3. Во вкусах пользователей Москвы и Петербурга больше общего чем различий. Вопреки ожиданиям, предпочтения жанров в Петербурге напоминают московские.\n",
    "\n",
    "Третья гипотеза не подтвердилась. Если различия в предпочтениях и существуют, на основной массе пользователей они незаметны.\n",
    "\n",
    "**На практике исследования содержат проверки статистических гипотез.**\n",
    "Из данных одного сервиса не всегда можно сделать вывод о всех жителях города.\n",
    "Проверки статистических гипотез покажут, насколько они достоверны, исходя из имеющихся данных. \n",
    "С методами проверок гипотез вы ещё познакомитесь в следующих темах."
   ]
  }
 ],
 "metadata": {
  "ExecuteTimeLog": [
   {
    "duration": 840,
    "start_time": "2022-02-09T09:33:41.208Z"
   },
   {
    "duration": 192,
    "start_time": "2022-02-09T09:33:42.051Z"
   },
   {
    "duration": 33,
    "start_time": "2022-02-09T09:33:42.246Z"
   },
   {
    "duration": 37,
    "start_time": "2022-02-09T09:33:42.282Z"
   },
   {
    "duration": 7,
    "start_time": "2022-02-09T09:33:42.322Z"
   },
   {
    "duration": 62,
    "start_time": "2022-02-09T09:33:42.332Z"
   },
   {
    "duration": 10,
    "start_time": "2022-02-09T09:33:42.397Z"
   },
   {
    "duration": 35,
    "start_time": "2022-02-09T09:33:42.411Z"
   },
   {
    "duration": 24,
    "start_time": "2022-02-09T09:33:42.471Z"
   },
   {
    "duration": 31,
    "start_time": "2022-02-09T09:33:42.497Z"
   },
   {
    "duration": 138,
    "start_time": "2022-02-09T09:33:42.531Z"
   },
   {
    "duration": 118,
    "start_time": "2022-02-09T09:33:42.672Z"
   },
   {
    "duration": 97,
    "start_time": "2022-02-09T09:33:42.792Z"
   },
   {
    "duration": 8,
    "start_time": "2022-02-09T09:33:42.891Z"
   },
   {
    "duration": 17,
    "start_time": "2022-02-09T09:33:42.901Z"
   },
   {
    "duration": 52,
    "start_time": "2022-02-09T09:33:42.920Z"
   },
   {
    "duration": 27,
    "start_time": "2022-02-09T09:33:42.974Z"
   },
   {
    "duration": 444,
    "start_time": "2022-02-09T09:33:43.004Z"
   },
   {
    "duration": -196,
    "start_time": "2022-02-09T09:33:43.647Z"
   },
   {
    "duration": -200,
    "start_time": "2022-02-09T09:33:43.652Z"
   },
   {
    "duration": -204,
    "start_time": "2022-02-09T09:33:43.657Z"
   },
   {
    "duration": -210,
    "start_time": "2022-02-09T09:33:43.665Z"
   },
   {
    "duration": -223,
    "start_time": "2022-02-09T09:33:43.679Z"
   },
   {
    "duration": -226,
    "start_time": "2022-02-09T09:33:43.683Z"
   },
   {
    "duration": -229,
    "start_time": "2022-02-09T09:33:43.687Z"
   },
   {
    "duration": -232,
    "start_time": "2022-02-09T09:33:43.692Z"
   },
   {
    "duration": -236,
    "start_time": "2022-02-09T09:33:43.697Z"
   },
   {
    "duration": -239,
    "start_time": "2022-02-09T09:33:43.701Z"
   },
   {
    "duration": -242,
    "start_time": "2022-02-09T09:33:43.705Z"
   },
   {
    "duration": -244,
    "start_time": "2022-02-09T09:33:43.709Z"
   },
   {
    "duration": -247,
    "start_time": "2022-02-09T09:33:43.713Z"
   },
   {
    "duration": -249,
    "start_time": "2022-02-09T09:33:43.716Z"
   },
   {
    "duration": -251,
    "start_time": "2022-02-09T09:33:43.720Z"
   },
   {
    "duration": -254,
    "start_time": "2022-02-09T09:33:43.724Z"
   },
   {
    "duration": -270,
    "start_time": "2022-02-09T09:33:43.741Z"
   },
   {
    "duration": -273,
    "start_time": "2022-02-09T09:33:43.745Z"
   },
   {
    "duration": -276,
    "start_time": "2022-02-09T09:33:43.750Z"
   },
   {
    "duration": -279,
    "start_time": "2022-02-09T09:33:43.754Z"
   },
   {
    "duration": 850,
    "start_time": "2022-02-09T09:45:59.438Z"
   },
   {
    "duration": 199,
    "start_time": "2022-02-09T09:46:00.291Z"
   },
   {
    "duration": 26,
    "start_time": "2022-02-09T09:46:00.493Z"
   },
   {
    "duration": 53,
    "start_time": "2022-02-09T09:46:00.523Z"
   },
   {
    "duration": 10,
    "start_time": "2022-02-09T09:46:00.579Z"
   },
   {
    "duration": 42,
    "start_time": "2022-02-09T09:46:00.591Z"
   },
   {
    "duration": 22,
    "start_time": "2022-02-09T09:46:00.635Z"
   },
   {
    "duration": 47,
    "start_time": "2022-02-09T09:46:00.660Z"
   },
   {
    "duration": 34,
    "start_time": "2022-02-09T09:46:00.711Z"
   },
   {
    "duration": 43,
    "start_time": "2022-02-09T09:46:00.748Z"
   },
   {
    "duration": 103,
    "start_time": "2022-02-09T09:46:00.793Z"
   },
   {
    "duration": 130,
    "start_time": "2022-02-09T09:46:00.898Z"
   },
   {
    "duration": 95,
    "start_time": "2022-02-09T09:46:01.030Z"
   },
   {
    "duration": 9,
    "start_time": "2022-02-09T09:46:01.128Z"
   },
   {
    "duration": 8,
    "start_time": "2022-02-09T09:46:01.139Z"
   },
   {
    "duration": 24,
    "start_time": "2022-02-09T09:46:01.169Z"
   },
   {
    "duration": 19,
    "start_time": "2022-02-09T09:46:01.195Z"
   },
   {
    "duration": 106,
    "start_time": "2022-02-09T09:46:01.216Z"
   },
   {
    "duration": -193,
    "start_time": "2022-02-09T09:46:01.519Z"
   },
   {
    "duration": -197,
    "start_time": "2022-02-09T09:46:01.525Z"
   },
   {
    "duration": -201,
    "start_time": "2022-02-09T09:46:01.530Z"
   },
   {
    "duration": -219,
    "start_time": "2022-02-09T09:46:01.549Z"
   },
   {
    "duration": -222,
    "start_time": "2022-02-09T09:46:01.554Z"
   },
   {
    "duration": -226,
    "start_time": "2022-02-09T09:46:01.560Z"
   },
   {
    "duration": -227,
    "start_time": "2022-02-09T09:46:01.563Z"
   },
   {
    "duration": -232,
    "start_time": "2022-02-09T09:46:01.569Z"
   },
   {
    "duration": -238,
    "start_time": "2022-02-09T09:46:01.577Z"
   },
   {
    "duration": -241,
    "start_time": "2022-02-09T09:46:01.581Z"
   },
   {
    "duration": -242,
    "start_time": "2022-02-09T09:46:01.584Z"
   },
   {
    "duration": -244,
    "start_time": "2022-02-09T09:46:01.587Z"
   },
   {
    "duration": -263,
    "start_time": "2022-02-09T09:46:01.608Z"
   },
   {
    "duration": -271,
    "start_time": "2022-02-09T09:46:01.617Z"
   },
   {
    "duration": -273,
    "start_time": "2022-02-09T09:46:01.621Z"
   },
   {
    "duration": -279,
    "start_time": "2022-02-09T09:46:01.628Z"
   },
   {
    "duration": -284,
    "start_time": "2022-02-09T09:46:01.634Z"
   },
   {
    "duration": -291,
    "start_time": "2022-02-09T09:46:01.642Z"
   },
   {
    "duration": -294,
    "start_time": "2022-02-09T09:46:01.647Z"
   },
   {
    "duration": -296,
    "start_time": "2022-02-09T09:46:01.650Z"
   },
   {
    "duration": 793,
    "start_time": "2022-02-09T09:46:34.149Z"
   },
   {
    "duration": 193,
    "start_time": "2022-02-09T09:46:34.945Z"
   },
   {
    "duration": 30,
    "start_time": "2022-02-09T09:46:35.141Z"
   },
   {
    "duration": 57,
    "start_time": "2022-02-09T09:46:35.173Z"
   },
   {
    "duration": 10,
    "start_time": "2022-02-09T09:46:35.233Z"
   },
   {
    "duration": 47,
    "start_time": "2022-02-09T09:46:35.245Z"
   },
   {
    "duration": 9,
    "start_time": "2022-02-09T09:46:35.296Z"
   },
   {
    "duration": 46,
    "start_time": "2022-02-09T09:46:35.308Z"
   },
   {
    "duration": 40,
    "start_time": "2022-02-09T09:46:35.358Z"
   },
   {
    "duration": 49,
    "start_time": "2022-02-09T09:46:35.401Z"
   },
   {
    "duration": 111,
    "start_time": "2022-02-09T09:46:35.452Z"
   },
   {
    "duration": 116,
    "start_time": "2022-02-09T09:46:35.565Z"
   },
   {
    "duration": 89,
    "start_time": "2022-02-09T09:46:35.683Z"
   },
   {
    "duration": 8,
    "start_time": "2022-02-09T09:46:35.775Z"
   },
   {
    "duration": 17,
    "start_time": "2022-02-09T09:46:35.785Z"
   },
   {
    "duration": 45,
    "start_time": "2022-02-09T09:46:35.805Z"
   },
   {
    "duration": 31,
    "start_time": "2022-02-09T09:46:35.852Z"
   },
   {
    "duration": 124,
    "start_time": "2022-02-09T09:46:35.885Z"
   },
   {
    "duration": -128,
    "start_time": "2022-02-09T09:46:36.140Z"
   },
   {
    "duration": -134,
    "start_time": "2022-02-09T09:46:36.148Z"
   },
   {
    "duration": -141,
    "start_time": "2022-02-09T09:46:36.156Z"
   },
   {
    "duration": -147,
    "start_time": "2022-02-09T09:46:36.164Z"
   },
   {
    "duration": -178,
    "start_time": "2022-02-09T09:46:36.196Z"
   },
   {
    "duration": -186,
    "start_time": "2022-02-09T09:46:36.206Z"
   },
   {
    "duration": -189,
    "start_time": "2022-02-09T09:46:36.210Z"
   },
   {
    "duration": -193,
    "start_time": "2022-02-09T09:46:36.216Z"
   },
   {
    "duration": -201,
    "start_time": "2022-02-09T09:46:36.225Z"
   },
   {
    "duration": -202,
    "start_time": "2022-02-09T09:46:36.228Z"
   },
   {
    "duration": -206,
    "start_time": "2022-02-09T09:46:36.233Z"
   },
   {
    "duration": -218,
    "start_time": "2022-02-09T09:46:36.246Z"
   },
   {
    "duration": -226,
    "start_time": "2022-02-09T09:46:36.256Z"
   },
   {
    "duration": -233,
    "start_time": "2022-02-09T09:46:36.264Z"
   },
   {
    "duration": -241,
    "start_time": "2022-02-09T09:46:36.274Z"
   },
   {
    "duration": -251,
    "start_time": "2022-02-09T09:46:36.285Z"
   },
   {
    "duration": -304,
    "start_time": "2022-02-09T09:46:36.339Z"
   },
   {
    "duration": -309,
    "start_time": "2022-02-09T09:46:36.346Z"
   },
   {
    "duration": -315,
    "start_time": "2022-02-09T09:46:36.353Z"
   },
   {
    "duration": -320,
    "start_time": "2022-02-09T09:46:36.359Z"
   },
   {
    "duration": 869,
    "start_time": "2022-02-09T09:55:22.552Z"
   },
   {
    "duration": 281,
    "start_time": "2022-02-09T09:55:23.424Z"
   },
   {
    "duration": 38,
    "start_time": "2022-02-09T09:55:23.709Z"
   },
   {
    "duration": 45,
    "start_time": "2022-02-09T09:55:23.750Z"
   },
   {
    "duration": 6,
    "start_time": "2022-02-09T09:55:23.798Z"
   },
   {
    "duration": 63,
    "start_time": "2022-02-09T09:55:23.806Z"
   },
   {
    "duration": 6,
    "start_time": "2022-02-09T09:55:23.872Z"
   },
   {
    "duration": 34,
    "start_time": "2022-02-09T09:55:23.882Z"
   },
   {
    "duration": 61,
    "start_time": "2022-02-09T09:55:23.920Z"
   },
   {
    "duration": 34,
    "start_time": "2022-02-09T09:55:23.983Z"
   },
   {
    "duration": 116,
    "start_time": "2022-02-09T09:55:24.020Z"
   },
   {
    "duration": 117,
    "start_time": "2022-02-09T09:55:24.139Z"
   },
   {
    "duration": 89,
    "start_time": "2022-02-09T09:55:24.259Z"
   },
   {
    "duration": 20,
    "start_time": "2022-02-09T09:55:24.351Z"
   },
   {
    "duration": 4,
    "start_time": "2022-02-09T09:55:24.374Z"
   },
   {
    "duration": 25,
    "start_time": "2022-02-09T09:55:24.380Z"
   },
   {
    "duration": 18,
    "start_time": "2022-02-09T09:55:24.407Z"
   },
   {
    "duration": 98,
    "start_time": "2022-02-09T09:55:24.428Z"
   },
   {
    "duration": -1977,
    "start_time": "2022-02-09T09:55:26.507Z"
   },
   {
    "duration": -1980,
    "start_time": "2022-02-09T09:55:26.511Z"
   },
   {
    "duration": -2012,
    "start_time": "2022-02-09T09:55:26.545Z"
   },
   {
    "duration": -2017,
    "start_time": "2022-02-09T09:55:26.551Z"
   },
   {
    "duration": -2025,
    "start_time": "2022-02-09T09:55:26.560Z"
   },
   {
    "duration": -2039,
    "start_time": "2022-02-09T09:55:26.575Z"
   },
   {
    "duration": -2129,
    "start_time": "2022-02-09T09:55:26.667Z"
   },
   {
    "duration": -2136,
    "start_time": "2022-02-09T09:55:26.675Z"
   },
   {
    "duration": -2141,
    "start_time": "2022-02-09T09:55:26.681Z"
   },
   {
    "duration": -2145,
    "start_time": "2022-02-09T09:55:26.686Z"
   },
   {
    "duration": -2148,
    "start_time": "2022-02-09T09:55:26.691Z"
   },
   {
    "duration": -2150,
    "start_time": "2022-02-09T09:55:26.695Z"
   },
   {
    "duration": -2159,
    "start_time": "2022-02-09T09:55:26.705Z"
   },
   {
    "duration": -2164,
    "start_time": "2022-02-09T09:55:26.711Z"
   },
   {
    "duration": -2168,
    "start_time": "2022-02-09T09:55:26.717Z"
   },
   {
    "duration": -2173,
    "start_time": "2022-02-09T09:55:26.723Z"
   },
   {
    "duration": -2174,
    "start_time": "2022-02-09T09:55:26.726Z"
   },
   {
    "duration": -2179,
    "start_time": "2022-02-09T09:55:26.732Z"
   },
   {
    "duration": -2181,
    "start_time": "2022-02-09T09:55:26.735Z"
   },
   {
    "duration": -2186,
    "start_time": "2022-02-09T09:55:26.742Z"
   },
   {
    "duration": 771,
    "start_time": "2022-02-09T09:57:37.629Z"
   },
   {
    "duration": 181,
    "start_time": "2022-02-09T09:57:38.402Z"
   },
   {
    "duration": 25,
    "start_time": "2022-02-09T09:57:38.586Z"
   },
   {
    "duration": 33,
    "start_time": "2022-02-09T09:57:38.614Z"
   },
   {
    "duration": 5,
    "start_time": "2022-02-09T09:57:38.669Z"
   },
   {
    "duration": 37,
    "start_time": "2022-02-09T09:57:38.676Z"
   },
   {
    "duration": 5,
    "start_time": "2022-02-09T09:57:38.715Z"
   },
   {
    "duration": 53,
    "start_time": "2022-02-09T09:57:38.723Z"
   },
   {
    "duration": 24,
    "start_time": "2022-02-09T09:57:38.779Z"
   },
   {
    "duration": 30,
    "start_time": "2022-02-09T09:57:38.806Z"
   },
   {
    "duration": 112,
    "start_time": "2022-02-09T09:57:38.838Z"
   },
   {
    "duration": 117,
    "start_time": "2022-02-09T09:57:38.952Z"
   },
   {
    "duration": 79,
    "start_time": "2022-02-09T09:57:39.072Z"
   },
   {
    "duration": 21,
    "start_time": "2022-02-09T09:57:39.153Z"
   },
   {
    "duration": 14,
    "start_time": "2022-02-09T09:57:39.176Z"
   },
   {
    "duration": 26,
    "start_time": "2022-02-09T09:57:39.193Z"
   },
   {
    "duration": 22,
    "start_time": "2022-02-09T09:57:39.221Z"
   },
   {
    "duration": 95,
    "start_time": "2022-02-09T09:57:39.247Z"
   },
   {
    "duration": -328,
    "start_time": "2022-02-09T09:57:39.674Z"
   },
   {
    "duration": -332,
    "start_time": "2022-02-09T09:57:39.680Z"
   },
   {
    "duration": -336,
    "start_time": "2022-02-09T09:57:39.685Z"
   },
   {
    "duration": -338,
    "start_time": "2022-02-09T09:57:39.689Z"
   },
   {
    "duration": -391,
    "start_time": "2022-02-09T09:57:39.743Z"
   },
   {
    "duration": -400,
    "start_time": "2022-02-09T09:57:39.754Z"
   },
   {
    "duration": -430,
    "start_time": "2022-02-09T09:57:39.785Z"
   },
   {
    "duration": -437,
    "start_time": "2022-02-09T09:57:39.793Z"
   },
   {
    "duration": -443,
    "start_time": "2022-02-09T09:57:39.801Z"
   },
   {
    "duration": -451,
    "start_time": "2022-02-09T09:57:39.810Z"
   },
   {
    "duration": -460,
    "start_time": "2022-02-09T09:57:39.820Z"
   },
   {
    "duration": -461,
    "start_time": "2022-02-09T09:57:39.823Z"
   },
   {
    "duration": -492,
    "start_time": "2022-02-09T09:57:39.855Z"
   },
   {
    "duration": -496,
    "start_time": "2022-02-09T09:57:39.860Z"
   },
   {
    "duration": -505,
    "start_time": "2022-02-09T09:57:39.871Z"
   },
   {
    "duration": -509,
    "start_time": "2022-02-09T09:57:39.876Z"
   },
   {
    "duration": -515,
    "start_time": "2022-02-09T09:57:39.884Z"
   },
   {
    "duration": -522,
    "start_time": "2022-02-09T09:57:39.892Z"
   },
   {
    "duration": -526,
    "start_time": "2022-02-09T09:57:39.898Z"
   },
   {
    "duration": -530,
    "start_time": "2022-02-09T09:57:39.903Z"
   },
   {
    "duration": 784,
    "start_time": "2022-02-09T10:46:24.722Z"
   },
   {
    "duration": 200,
    "start_time": "2022-02-09T10:46:25.508Z"
   },
   {
    "duration": 28,
    "start_time": "2022-02-09T10:46:25.711Z"
   },
   {
    "duration": 54,
    "start_time": "2022-02-09T10:46:25.742Z"
   },
   {
    "duration": 5,
    "start_time": "2022-02-09T10:46:25.798Z"
   },
   {
    "duration": 34,
    "start_time": "2022-02-09T10:46:25.806Z"
   },
   {
    "duration": 26,
    "start_time": "2022-02-09T10:46:25.843Z"
   },
   {
    "duration": 34,
    "start_time": "2022-02-09T10:46:25.875Z"
   },
   {
    "duration": 57,
    "start_time": "2022-02-09T10:46:25.913Z"
   },
   {
    "duration": 33,
    "start_time": "2022-02-09T10:46:25.972Z"
   },
   {
    "duration": 126,
    "start_time": "2022-02-09T10:46:26.009Z"
   },
   {
    "duration": 111,
    "start_time": "2022-02-09T10:46:26.138Z"
   },
   {
    "duration": 89,
    "start_time": "2022-02-09T10:46:26.252Z"
   },
   {
    "duration": 8,
    "start_time": "2022-02-09T10:46:26.343Z"
   },
   {
    "duration": 18,
    "start_time": "2022-02-09T10:46:26.353Z"
   },
   {
    "duration": 26,
    "start_time": "2022-02-09T10:46:26.374Z"
   },
   {
    "duration": 19,
    "start_time": "2022-02-09T10:46:26.402Z"
   },
   {
    "duration": 95,
    "start_time": "2022-02-09T10:46:26.423Z"
   },
   {
    "duration": -168,
    "start_time": "2022-02-09T10:46:26.690Z"
   },
   {
    "duration": -187,
    "start_time": "2022-02-09T10:46:26.710Z"
   },
   {
    "duration": -232,
    "start_time": "2022-02-09T10:46:26.756Z"
   },
   {
    "duration": -237,
    "start_time": "2022-02-09T10:46:26.763Z"
   },
   {
    "duration": -267,
    "start_time": "2022-02-09T10:46:26.794Z"
   },
   {
    "duration": -269,
    "start_time": "2022-02-09T10:46:26.798Z"
   },
   {
    "duration": -271,
    "start_time": "2022-02-09T10:46:26.801Z"
   },
   {
    "duration": -277,
    "start_time": "2022-02-09T10:46:26.809Z"
   },
   {
    "duration": -280,
    "start_time": "2022-02-09T10:46:26.813Z"
   },
   {
    "duration": -284,
    "start_time": "2022-02-09T10:46:26.818Z"
   },
   {
    "duration": -286,
    "start_time": "2022-02-09T10:46:26.822Z"
   },
   {
    "duration": -290,
    "start_time": "2022-02-09T10:46:26.827Z"
   },
   {
    "duration": -291,
    "start_time": "2022-02-09T10:46:26.830Z"
   },
   {
    "duration": -293,
    "start_time": "2022-02-09T10:46:26.833Z"
   },
   {
    "duration": -295,
    "start_time": "2022-02-09T10:46:26.836Z"
   },
   {
    "duration": -297,
    "start_time": "2022-02-09T10:46:26.841Z"
   },
   {
    "duration": -298,
    "start_time": "2022-02-09T10:46:26.844Z"
   },
   {
    "duration": -300,
    "start_time": "2022-02-09T10:46:26.847Z"
   },
   {
    "duration": -318,
    "start_time": "2022-02-09T10:46:26.867Z"
   },
   {
    "duration": -321,
    "start_time": "2022-02-09T10:46:26.871Z"
   },
   {
    "duration": 764,
    "start_time": "2022-02-09T10:52:49.591Z"
   },
   {
    "duration": 198,
    "start_time": "2022-02-09T10:52:50.358Z"
   },
   {
    "duration": 32,
    "start_time": "2022-02-09T10:52:50.559Z"
   },
   {
    "duration": 36,
    "start_time": "2022-02-09T10:52:50.594Z"
   },
   {
    "duration": 38,
    "start_time": "2022-02-09T10:52:50.632Z"
   },
   {
    "duration": 33,
    "start_time": "2022-02-09T10:52:50.672Z"
   },
   {
    "duration": 9,
    "start_time": "2022-02-09T10:52:50.708Z"
   },
   {
    "duration": 53,
    "start_time": "2022-02-09T10:52:50.722Z"
   },
   {
    "duration": 25,
    "start_time": "2022-02-09T10:52:50.778Z"
   },
   {
    "duration": 37,
    "start_time": "2022-02-09T10:52:50.805Z"
   },
   {
    "duration": 126,
    "start_time": "2022-02-09T10:52:50.844Z"
   },
   {
    "duration": 132,
    "start_time": "2022-02-09T10:52:50.973Z"
   },
   {
    "duration": 96,
    "start_time": "2022-02-09T10:52:51.107Z"
   },
   {
    "duration": 8,
    "start_time": "2022-02-09T10:52:51.205Z"
   },
   {
    "duration": 5,
    "start_time": "2022-02-09T10:52:51.215Z"
   },
   {
    "duration": 50,
    "start_time": "2022-02-09T10:52:51.222Z"
   },
   {
    "duration": 19,
    "start_time": "2022-02-09T10:52:51.274Z"
   },
   {
    "duration": 79,
    "start_time": "2022-02-09T10:52:51.295Z"
   },
   {
    "duration": -185,
    "start_time": "2022-02-09T10:52:51.563Z"
   },
   {
    "duration": -188,
    "start_time": "2022-02-09T10:52:51.567Z"
   },
   {
    "duration": -192,
    "start_time": "2022-02-09T10:52:51.573Z"
   },
   {
    "duration": -198,
    "start_time": "2022-02-09T10:52:51.580Z"
   },
   {
    "duration": -202,
    "start_time": "2022-02-09T10:52:51.586Z"
   },
   {
    "duration": -205,
    "start_time": "2022-02-09T10:52:51.590Z"
   },
   {
    "duration": -211,
    "start_time": "2022-02-09T10:52:51.597Z"
   },
   {
    "duration": -213,
    "start_time": "2022-02-09T10:52:51.600Z"
   },
   {
    "duration": -216,
    "start_time": "2022-02-09T10:52:51.604Z"
   },
   {
    "duration": -219,
    "start_time": "2022-02-09T10:52:51.609Z"
   },
   {
    "duration": -223,
    "start_time": "2022-02-09T10:52:51.614Z"
   },
   {
    "duration": -225,
    "start_time": "2022-02-09T10:52:51.617Z"
   },
   {
    "duration": -226,
    "start_time": "2022-02-09T10:52:51.620Z"
   },
   {
    "duration": -252,
    "start_time": "2022-02-09T10:52:51.647Z"
   },
   {
    "duration": -257,
    "start_time": "2022-02-09T10:52:51.653Z"
   },
   {
    "duration": -259,
    "start_time": "2022-02-09T10:52:51.657Z"
   },
   {
    "duration": -263,
    "start_time": "2022-02-09T10:52:51.662Z"
   },
   {
    "duration": -265,
    "start_time": "2022-02-09T10:52:51.665Z"
   },
   {
    "duration": -267,
    "start_time": "2022-02-09T10:52:51.668Z"
   },
   {
    "duration": -270,
    "start_time": "2022-02-09T10:52:51.673Z"
   },
   {
    "duration": 745,
    "start_time": "2022-02-09T11:02:26.213Z"
   },
   {
    "duration": 198,
    "start_time": "2022-02-09T11:02:26.961Z"
   },
   {
    "duration": 30,
    "start_time": "2022-02-09T11:02:27.162Z"
   },
   {
    "duration": 35,
    "start_time": "2022-02-09T11:02:27.195Z"
   },
   {
    "duration": 13,
    "start_time": "2022-02-09T11:02:27.232Z"
   },
   {
    "duration": 58,
    "start_time": "2022-02-09T11:02:27.247Z"
   },
   {
    "duration": 20,
    "start_time": "2022-02-09T11:02:27.308Z"
   },
   {
    "duration": 42,
    "start_time": "2022-02-09T11:02:27.332Z"
   },
   {
    "duration": 25,
    "start_time": "2022-02-09T11:02:27.377Z"
   },
   {
    "duration": 39,
    "start_time": "2022-02-09T11:02:27.405Z"
   },
   {
    "duration": 103,
    "start_time": "2022-02-09T11:02:27.446Z"
   },
   {
    "duration": 117,
    "start_time": "2022-02-09T11:02:27.552Z"
   },
   {
    "duration": 81,
    "start_time": "2022-02-09T11:02:27.671Z"
   },
   {
    "duration": 20,
    "start_time": "2022-02-09T11:02:27.755Z"
   },
   {
    "duration": 18,
    "start_time": "2022-02-09T11:02:27.778Z"
   },
   {
    "duration": 43,
    "start_time": "2022-02-09T11:02:27.799Z"
   },
   {
    "duration": 18,
    "start_time": "2022-02-09T11:02:27.844Z"
   },
   {
    "duration": 139,
    "start_time": "2022-02-09T11:02:27.865Z"
   },
   {
    "duration": -194,
    "start_time": "2022-02-09T11:02:28.201Z"
   },
   {
    "duration": -198,
    "start_time": "2022-02-09T11:02:28.207Z"
   },
   {
    "duration": -201,
    "start_time": "2022-02-09T11:02:28.212Z"
   },
   {
    "duration": -247,
    "start_time": "2022-02-09T11:02:28.259Z"
   },
   {
    "duration": -251,
    "start_time": "2022-02-09T11:02:28.264Z"
   },
   {
    "duration": -255,
    "start_time": "2022-02-09T11:02:28.270Z"
   },
   {
    "duration": -261,
    "start_time": "2022-02-09T11:02:28.277Z"
   },
   {
    "duration": -265,
    "start_time": "2022-02-09T11:02:28.282Z"
   },
   {
    "duration": -269,
    "start_time": "2022-02-09T11:02:28.288Z"
   },
   {
    "duration": -274,
    "start_time": "2022-02-09T11:02:28.294Z"
   },
   {
    "duration": -287,
    "start_time": "2022-02-09T11:02:28.308Z"
   },
   {
    "duration": -290,
    "start_time": "2022-02-09T11:02:28.312Z"
   },
   {
    "duration": -292,
    "start_time": "2022-02-09T11:02:28.316Z"
   },
   {
    "duration": -305,
    "start_time": "2022-02-09T11:02:28.330Z"
   },
   {
    "duration": -309,
    "start_time": "2022-02-09T11:02:28.335Z"
   },
   {
    "duration": -312,
    "start_time": "2022-02-09T11:02:28.340Z"
   },
   {
    "duration": -316,
    "start_time": "2022-02-09T11:02:28.345Z"
   },
   {
    "duration": -322,
    "start_time": "2022-02-09T11:02:28.352Z"
   },
   {
    "duration": -327,
    "start_time": "2022-02-09T11:02:28.359Z"
   },
   {
    "duration": -330,
    "start_time": "2022-02-09T11:02:28.363Z"
   },
   {
    "duration": 797,
    "start_time": "2022-02-09T11:08:56.663Z"
   },
   {
    "duration": 207,
    "start_time": "2022-02-09T11:08:57.463Z"
   },
   {
    "duration": 25,
    "start_time": "2022-02-09T11:08:57.674Z"
   },
   {
    "duration": 35,
    "start_time": "2022-02-09T11:08:57.702Z"
   },
   {
    "duration": 29,
    "start_time": "2022-02-09T11:08:57.739Z"
   },
   {
    "duration": 35,
    "start_time": "2022-02-09T11:08:57.771Z"
   },
   {
    "duration": 9,
    "start_time": "2022-02-09T11:08:57.809Z"
   },
   {
    "duration": 80,
    "start_time": "2022-02-09T11:08:57.824Z"
   },
   {
    "duration": 29,
    "start_time": "2022-02-09T11:08:57.908Z"
   },
   {
    "duration": 53,
    "start_time": "2022-02-09T11:08:57.939Z"
   },
   {
    "duration": 110,
    "start_time": "2022-02-09T11:08:57.994Z"
   },
   {
    "duration": 137,
    "start_time": "2022-02-09T11:08:58.106Z"
   },
   {
    "duration": 89,
    "start_time": "2022-02-09T11:08:58.245Z"
   },
   {
    "duration": 9,
    "start_time": "2022-02-09T11:08:58.337Z"
   },
   {
    "duration": 22,
    "start_time": "2022-02-09T11:08:58.349Z"
   },
   {
    "duration": 26,
    "start_time": "2022-02-09T11:08:58.374Z"
   },
   {
    "duration": 26,
    "start_time": "2022-02-09T11:08:58.403Z"
   },
   {
    "duration": 201,
    "start_time": "2022-02-09T11:08:58.432Z"
   },
   {
    "duration": -136,
    "start_time": "2022-02-09T11:08:58.773Z"
   },
   {
    "duration": -141,
    "start_time": "2022-02-09T11:08:58.780Z"
   },
   {
    "duration": -142,
    "start_time": "2022-02-09T11:08:58.783Z"
   },
   {
    "duration": -143,
    "start_time": "2022-02-09T11:08:58.786Z"
   },
   {
    "duration": -145,
    "start_time": "2022-02-09T11:08:58.790Z"
   },
   {
    "duration": -145,
    "start_time": "2022-02-09T11:08:58.792Z"
   },
   {
    "duration": -148,
    "start_time": "2022-02-09T11:08:58.797Z"
   },
   {
    "duration": -149,
    "start_time": "2022-02-09T11:08:58.801Z"
   },
   {
    "duration": -152,
    "start_time": "2022-02-09T11:08:58.806Z"
   },
   {
    "duration": -154,
    "start_time": "2022-02-09T11:08:58.810Z"
   },
   {
    "duration": -156,
    "start_time": "2022-02-09T11:08:58.814Z"
   },
   {
    "duration": -166,
    "start_time": "2022-02-09T11:08:58.826Z"
   },
   {
    "duration": -168,
    "start_time": "2022-02-09T11:08:58.830Z"
   },
   {
    "duration": -169,
    "start_time": "2022-02-09T11:08:58.833Z"
   },
   {
    "duration": -171,
    "start_time": "2022-02-09T11:08:58.837Z"
   },
   {
    "duration": -172,
    "start_time": "2022-02-09T11:08:58.840Z"
   },
   {
    "duration": -173,
    "start_time": "2022-02-09T11:08:58.843Z"
   },
   {
    "duration": -177,
    "start_time": "2022-02-09T11:08:58.849Z"
   },
   {
    "duration": -178,
    "start_time": "2022-02-09T11:08:58.852Z"
   },
   {
    "duration": -180,
    "start_time": "2022-02-09T11:08:58.856Z"
   },
   {
    "duration": 773,
    "start_time": "2022-02-09T11:10:18.188Z"
   },
   {
    "duration": 198,
    "start_time": "2022-02-09T11:10:18.964Z"
   },
   {
    "duration": 26,
    "start_time": "2022-02-09T11:10:19.165Z"
   },
   {
    "duration": 36,
    "start_time": "2022-02-09T11:10:19.194Z"
   },
   {
    "duration": 5,
    "start_time": "2022-02-09T11:10:19.233Z"
   },
   {
    "duration": 56,
    "start_time": "2022-02-09T11:10:19.241Z"
   },
   {
    "duration": 8,
    "start_time": "2022-02-09T11:10:19.300Z"
   },
   {
    "duration": 59,
    "start_time": "2022-02-09T11:10:19.312Z"
   },
   {
    "duration": 23,
    "start_time": "2022-02-09T11:10:19.374Z"
   },
   {
    "duration": 36,
    "start_time": "2022-02-09T11:10:19.400Z"
   },
   {
    "duration": 106,
    "start_time": "2022-02-09T11:10:19.439Z"
   },
   {
    "duration": 122,
    "start_time": "2022-02-09T11:10:19.547Z"
   },
   {
    "duration": 79,
    "start_time": "2022-02-09T11:10:19.671Z"
   },
   {
    "duration": 21,
    "start_time": "2022-02-09T11:10:19.752Z"
   },
   {
    "duration": 7,
    "start_time": "2022-02-09T11:10:19.776Z"
   },
   {
    "duration": 27,
    "start_time": "2022-02-09T11:10:19.785Z"
   },
   {
    "duration": 19,
    "start_time": "2022-02-09T11:10:19.814Z"
   },
   {
    "duration": 94,
    "start_time": "2022-02-09T11:10:19.835Z"
   },
   {
    "duration": -135,
    "start_time": "2022-02-09T11:10:20.068Z"
   },
   {
    "duration": -146,
    "start_time": "2022-02-09T11:10:20.080Z"
   },
   {
    "duration": -169,
    "start_time": "2022-02-09T11:10:20.104Z"
   },
   {
    "duration": -183,
    "start_time": "2022-02-09T11:10:20.121Z"
   },
   {
    "duration": -194,
    "start_time": "2022-02-09T11:10:20.133Z"
   },
   {
    "duration": -199,
    "start_time": "2022-02-09T11:10:20.139Z"
   },
   {
    "duration": -228,
    "start_time": "2022-02-09T11:10:20.170Z"
   },
   {
    "duration": -261,
    "start_time": "2022-02-09T11:10:20.204Z"
   },
   {
    "duration": -292,
    "start_time": "2022-02-09T11:10:20.237Z"
   },
   {
    "duration": -344,
    "start_time": "2022-02-09T11:10:20.290Z"
   },
   {
    "duration": -350,
    "start_time": "2022-02-09T11:10:20.297Z"
   },
   {
    "duration": -361,
    "start_time": "2022-02-09T11:10:20.310Z"
   },
   {
    "duration": -367,
    "start_time": "2022-02-09T11:10:20.317Z"
   },
   {
    "duration": -373,
    "start_time": "2022-02-09T11:10:20.325Z"
   },
   {
    "duration": -376,
    "start_time": "2022-02-09T11:10:20.329Z"
   },
   {
    "duration": -399,
    "start_time": "2022-02-09T11:10:20.353Z"
   },
   {
    "duration": -417,
    "start_time": "2022-02-09T11:10:20.373Z"
   },
   {
    "duration": -420,
    "start_time": "2022-02-09T11:10:20.377Z"
   },
   {
    "duration": -423,
    "start_time": "2022-02-09T11:10:20.381Z"
   },
   {
    "duration": -448,
    "start_time": "2022-02-09T11:10:20.407Z"
   },
   {
    "duration": 787,
    "start_time": "2022-02-09T11:13:28.131Z"
   },
   {
    "duration": 190,
    "start_time": "2022-02-09T11:13:28.921Z"
   },
   {
    "duration": 25,
    "start_time": "2022-02-09T11:13:29.114Z"
   },
   {
    "duration": 53,
    "start_time": "2022-02-09T11:13:29.142Z"
   },
   {
    "duration": 5,
    "start_time": "2022-02-09T11:13:29.198Z"
   },
   {
    "duration": 31,
    "start_time": "2022-02-09T11:13:29.205Z"
   },
   {
    "duration": 5,
    "start_time": "2022-02-09T11:13:29.239Z"
   },
   {
    "duration": 53,
    "start_time": "2022-02-09T11:13:29.247Z"
   },
   {
    "duration": 27,
    "start_time": "2022-02-09T11:13:29.303Z"
   },
   {
    "duration": 58,
    "start_time": "2022-02-09T11:13:29.332Z"
   },
   {
    "duration": 125,
    "start_time": "2022-02-09T11:13:29.393Z"
   },
   {
    "duration": 116,
    "start_time": "2022-02-09T11:13:29.521Z"
   },
   {
    "duration": 96,
    "start_time": "2022-02-09T11:13:29.639Z"
   },
   {
    "duration": 8,
    "start_time": "2022-02-09T11:13:29.737Z"
   },
   {
    "duration": 5,
    "start_time": "2022-02-09T11:13:29.748Z"
   },
   {
    "duration": 28,
    "start_time": "2022-02-09T11:13:29.770Z"
   },
   {
    "duration": 19,
    "start_time": "2022-02-09T11:13:29.800Z"
   },
   {
    "duration": 90,
    "start_time": "2022-02-09T11:13:29.821Z"
   },
   {
    "duration": -118,
    "start_time": "2022-02-09T11:13:30.032Z"
   },
   {
    "duration": -121,
    "start_time": "2022-02-09T11:13:30.036Z"
   },
   {
    "duration": -122,
    "start_time": "2022-02-09T11:13:30.039Z"
   },
   {
    "duration": -124,
    "start_time": "2022-02-09T11:13:30.043Z"
   },
   {
    "duration": -145,
    "start_time": "2022-02-09T11:13:30.065Z"
   },
   {
    "duration": -148,
    "start_time": "2022-02-09T11:13:30.069Z"
   },
   {
    "duration": -149,
    "start_time": "2022-02-09T11:13:30.073Z"
   },
   {
    "duration": -150,
    "start_time": "2022-02-09T11:13:30.076Z"
   },
   {
    "duration": -152,
    "start_time": "2022-02-09T11:13:30.080Z"
   },
   {
    "duration": -154,
    "start_time": "2022-02-09T11:13:30.084Z"
   },
   {
    "duration": -156,
    "start_time": "2022-02-09T11:13:30.088Z"
   },
   {
    "duration": -157,
    "start_time": "2022-02-09T11:13:30.092Z"
   },
   {
    "duration": -161,
    "start_time": "2022-02-09T11:13:30.098Z"
   },
   {
    "duration": -163,
    "start_time": "2022-02-09T11:13:30.102Z"
   },
   {
    "duration": -164,
    "start_time": "2022-02-09T11:13:30.105Z"
   },
   {
    "duration": -165,
    "start_time": "2022-02-09T11:13:30.108Z"
   },
   {
    "duration": -166,
    "start_time": "2022-02-09T11:13:30.111Z"
   },
   {
    "duration": -168,
    "start_time": "2022-02-09T11:13:30.115Z"
   },
   {
    "duration": -191,
    "start_time": "2022-02-09T11:13:30.140Z"
   },
   {
    "duration": -192,
    "start_time": "2022-02-09T11:13:30.143Z"
   },
   {
    "duration": 766,
    "start_time": "2022-02-09T11:18:09.585Z"
   },
   {
    "duration": 191,
    "start_time": "2022-02-09T11:18:10.354Z"
   },
   {
    "duration": 31,
    "start_time": "2022-02-09T11:18:10.548Z"
   },
   {
    "duration": 32,
    "start_time": "2022-02-09T11:18:10.582Z"
   },
   {
    "duration": 14,
    "start_time": "2022-02-09T11:18:10.617Z"
   },
   {
    "duration": 55,
    "start_time": "2022-02-09T11:18:10.633Z"
   },
   {
    "duration": 10,
    "start_time": "2022-02-09T11:18:10.691Z"
   },
   {
    "duration": 32,
    "start_time": "2022-02-09T11:18:10.705Z"
   },
   {
    "duration": 51,
    "start_time": "2022-02-09T11:18:10.740Z"
   },
   {
    "duration": 31,
    "start_time": "2022-02-09T11:18:10.793Z"
   },
   {
    "duration": 115,
    "start_time": "2022-02-09T11:18:10.827Z"
   },
   {
    "duration": 124,
    "start_time": "2022-02-09T11:18:10.945Z"
   },
   {
    "duration": 98,
    "start_time": "2022-02-09T11:18:11.071Z"
   },
   {
    "duration": 9,
    "start_time": "2022-02-09T11:18:11.172Z"
   },
   {
    "duration": 4,
    "start_time": "2022-02-09T11:18:11.184Z"
   },
   {
    "duration": 32,
    "start_time": "2022-02-09T11:18:11.190Z"
   },
   {
    "duration": 45,
    "start_time": "2022-02-09T11:18:11.224Z"
   },
   {
    "duration": 89,
    "start_time": "2022-02-09T11:18:11.272Z"
   },
   {
    "duration": -299,
    "start_time": "2022-02-09T11:18:11.663Z"
   },
   {
    "duration": -310,
    "start_time": "2022-02-09T11:18:11.676Z"
   },
   {
    "duration": -313,
    "start_time": "2022-02-09T11:18:11.680Z"
   },
   {
    "duration": -316,
    "start_time": "2022-02-09T11:18:11.685Z"
   },
   {
    "duration": -330,
    "start_time": "2022-02-09T11:18:11.700Z"
   },
   {
    "duration": -391,
    "start_time": "2022-02-09T11:18:11.762Z"
   },
   {
    "duration": -397,
    "start_time": "2022-02-09T11:18:11.770Z"
   },
   {
    "duration": -404,
    "start_time": "2022-02-09T11:18:11.778Z"
   },
   {
    "duration": -408,
    "start_time": "2022-02-09T11:18:11.783Z"
   },
   {
    "duration": -411,
    "start_time": "2022-02-09T11:18:11.788Z"
   },
   {
    "duration": -427,
    "start_time": "2022-02-09T11:18:11.805Z"
   },
   {
    "duration": -430,
    "start_time": "2022-02-09T11:18:11.810Z"
   },
   {
    "duration": -438,
    "start_time": "2022-02-09T11:18:11.819Z"
   },
   {
    "duration": -441,
    "start_time": "2022-02-09T11:18:11.824Z"
   },
   {
    "duration": -445,
    "start_time": "2022-02-09T11:18:11.829Z"
   },
   {
    "duration": -449,
    "start_time": "2022-02-09T11:18:11.834Z"
   },
   {
    "duration": -453,
    "start_time": "2022-02-09T11:18:11.840Z"
   },
   {
    "duration": -456,
    "start_time": "2022-02-09T11:18:11.844Z"
   },
   {
    "duration": -460,
    "start_time": "2022-02-09T11:18:11.850Z"
   },
   {
    "duration": -466,
    "start_time": "2022-02-09T11:18:11.857Z"
   },
   {
    "duration": 779,
    "start_time": "2022-02-09T11:26:31.704Z"
   },
   {
    "duration": 192,
    "start_time": "2022-02-09T11:26:32.486Z"
   },
   {
    "duration": 26,
    "start_time": "2022-02-09T11:26:32.681Z"
   },
   {
    "duration": 51,
    "start_time": "2022-02-09T11:26:32.710Z"
   },
   {
    "duration": 14,
    "start_time": "2022-02-09T11:26:32.763Z"
   },
   {
    "duration": 37,
    "start_time": "2022-02-09T11:26:32.779Z"
   },
   {
    "duration": 19,
    "start_time": "2022-02-09T11:26:32.819Z"
   },
   {
    "duration": 52,
    "start_time": "2022-02-09T11:26:32.844Z"
   },
   {
    "duration": 29,
    "start_time": "2022-02-09T11:26:32.900Z"
   },
   {
    "duration": 52,
    "start_time": "2022-02-09T11:26:32.932Z"
   },
   {
    "duration": 105,
    "start_time": "2022-02-09T11:26:32.988Z"
   },
   {
    "duration": 110,
    "start_time": "2022-02-09T11:26:33.096Z"
   },
   {
    "duration": 94,
    "start_time": "2022-02-09T11:26:33.208Z"
   },
   {
    "duration": 8,
    "start_time": "2022-02-09T11:26:33.305Z"
   },
   {
    "duration": 18,
    "start_time": "2022-02-09T11:26:33.316Z"
   },
   {
    "duration": 50,
    "start_time": "2022-02-09T11:26:33.337Z"
   },
   {
    "duration": 27,
    "start_time": "2022-02-09T11:26:33.390Z"
   },
   {
    "duration": 96,
    "start_time": "2022-02-09T11:26:33.419Z"
   },
   {
    "duration": -428,
    "start_time": "2022-02-09T11:26:33.946Z"
   },
   {
    "duration": -432,
    "start_time": "2022-02-09T11:26:33.951Z"
   },
   {
    "duration": -435,
    "start_time": "2022-02-09T11:26:33.956Z"
   },
   {
    "duration": -441,
    "start_time": "2022-02-09T11:26:33.963Z"
   },
   {
    "duration": -454,
    "start_time": "2022-02-09T11:26:33.977Z"
   },
   {
    "duration": -457,
    "start_time": "2022-02-09T11:26:33.982Z"
   },
   {
    "duration": -461,
    "start_time": "2022-02-09T11:26:33.987Z"
   },
   {
    "duration": -465,
    "start_time": "2022-02-09T11:26:33.992Z"
   },
   {
    "duration": -471,
    "start_time": "2022-02-09T11:26:34.000Z"
   },
   {
    "duration": -475,
    "start_time": "2022-02-09T11:26:34.005Z"
   },
   {
    "duration": -478,
    "start_time": "2022-02-09T11:26:34.009Z"
   },
   {
    "duration": -480,
    "start_time": "2022-02-09T11:26:34.013Z"
   },
   {
    "duration": -531,
    "start_time": "2022-02-09T11:26:34.065Z"
   },
   {
    "duration": -535,
    "start_time": "2022-02-09T11:26:34.070Z"
   },
   {
    "duration": -538,
    "start_time": "2022-02-09T11:26:34.074Z"
   },
   {
    "duration": -543,
    "start_time": "2022-02-09T11:26:34.081Z"
   },
   {
    "duration": -548,
    "start_time": "2022-02-09T11:26:34.087Z"
   },
   {
    "duration": -553,
    "start_time": "2022-02-09T11:26:34.093Z"
   },
   {
    "duration": -556,
    "start_time": "2022-02-09T11:26:34.098Z"
   },
   {
    "duration": -560,
    "start_time": "2022-02-09T11:26:34.103Z"
   },
   {
    "duration": 782,
    "start_time": "2022-02-09T12:00:41.174Z"
   },
   {
    "duration": 202,
    "start_time": "2022-02-09T12:00:41.959Z"
   },
   {
    "duration": 27,
    "start_time": "2022-02-09T12:00:42.164Z"
   },
   {
    "duration": 41,
    "start_time": "2022-02-09T12:00:42.194Z"
   },
   {
    "duration": 34,
    "start_time": "2022-02-09T12:00:42.238Z"
   },
   {
    "duration": 33,
    "start_time": "2022-02-09T12:00:42.275Z"
   },
   {
    "duration": 10,
    "start_time": "2022-02-09T12:00:42.311Z"
   },
   {
    "duration": 59,
    "start_time": "2022-02-09T12:00:42.327Z"
   },
   {
    "duration": 25,
    "start_time": "2022-02-09T12:00:42.389Z"
   },
   {
    "duration": 55,
    "start_time": "2022-02-09T12:00:42.417Z"
   },
   {
    "duration": 100,
    "start_time": "2022-02-09T12:00:42.474Z"
   },
   {
    "duration": 114,
    "start_time": "2022-02-09T12:00:42.576Z"
   },
   {
    "duration": 95,
    "start_time": "2022-02-09T12:00:42.692Z"
   },
   {
    "duration": 7,
    "start_time": "2022-02-09T12:00:42.790Z"
   },
   {
    "duration": 5,
    "start_time": "2022-02-09T12:00:42.800Z"
   },
   {
    "duration": 25,
    "start_time": "2022-02-09T12:00:42.807Z"
   },
   {
    "duration": 43,
    "start_time": "2022-02-09T12:00:42.835Z"
   },
   {
    "duration": 82,
    "start_time": "2022-02-09T12:00:42.881Z"
   },
   {
    "duration": -154,
    "start_time": "2022-02-09T12:00:43.120Z"
   },
   {
    "duration": -162,
    "start_time": "2022-02-09T12:00:43.130Z"
   },
   {
    "duration": -169,
    "start_time": "2022-02-09T12:00:43.138Z"
   },
   {
    "duration": -176,
    "start_time": "2022-02-09T12:00:43.146Z"
   },
   {
    "duration": -180,
    "start_time": "2022-02-09T12:00:43.152Z"
   },
   {
    "duration": -184,
    "start_time": "2022-02-09T12:00:43.157Z"
   },
   {
    "duration": -187,
    "start_time": "2022-02-09T12:00:43.162Z"
   },
   {
    "duration": -191,
    "start_time": "2022-02-09T12:00:43.167Z"
   },
   {
    "duration": -192,
    "start_time": "2022-02-09T12:00:43.170Z"
   },
   {
    "duration": -234,
    "start_time": "2022-02-09T12:00:43.213Z"
   },
   {
    "duration": -238,
    "start_time": "2022-02-09T12:00:43.218Z"
   },
   {
    "duration": -246,
    "start_time": "2022-02-09T12:00:43.228Z"
   },
   {
    "duration": -259,
    "start_time": "2022-02-09T12:00:43.242Z"
   },
   {
    "duration": -261,
    "start_time": "2022-02-09T12:00:43.246Z"
   },
   {
    "duration": -266,
    "start_time": "2022-02-09T12:00:43.252Z"
   },
   {
    "duration": -271,
    "start_time": "2022-02-09T12:00:43.259Z"
   },
   {
    "duration": -274,
    "start_time": "2022-02-09T12:00:43.263Z"
   },
   {
    "duration": -276,
    "start_time": "2022-02-09T12:00:43.267Z"
   },
   {
    "duration": -280,
    "start_time": "2022-02-09T12:00:43.272Z"
   },
   {
    "duration": -283,
    "start_time": "2022-02-09T12:00:43.277Z"
   },
   {
    "duration": 733,
    "start_time": "2022-02-09T12:02:20.014Z"
   },
   {
    "duration": 200,
    "start_time": "2022-02-09T12:02:20.750Z"
   },
   {
    "duration": 31,
    "start_time": "2022-02-09T12:02:20.954Z"
   },
   {
    "duration": 34,
    "start_time": "2022-02-09T12:02:20.988Z"
   },
   {
    "duration": 13,
    "start_time": "2022-02-09T12:02:21.025Z"
   },
   {
    "duration": 58,
    "start_time": "2022-02-09T12:02:21.040Z"
   },
   {
    "duration": 10,
    "start_time": "2022-02-09T12:02:21.100Z"
   },
   {
    "duration": 34,
    "start_time": "2022-02-09T12:02:21.112Z"
   },
   {
    "duration": 23,
    "start_time": "2022-02-09T12:02:21.170Z"
   },
   {
    "duration": 32,
    "start_time": "2022-02-09T12:02:21.196Z"
   },
   {
    "duration": 116,
    "start_time": "2022-02-09T12:02:21.230Z"
   },
   {
    "duration": 114,
    "start_time": "2022-02-09T12:02:21.349Z"
   },
   {
    "duration": 85,
    "start_time": "2022-02-09T12:02:21.469Z"
   },
   {
    "duration": 9,
    "start_time": "2022-02-09T12:02:21.568Z"
   },
   {
    "duration": 9,
    "start_time": "2022-02-09T12:02:21.579Z"
   },
   {
    "duration": 27,
    "start_time": "2022-02-09T12:02:21.591Z"
   },
   {
    "duration": 25,
    "start_time": "2022-02-09T12:02:21.621Z"
   },
   {
    "duration": 424,
    "start_time": "2022-02-09T12:02:21.648Z"
   },
   {
    "duration": -200,
    "start_time": "2022-02-09T12:02:22.276Z"
   },
   {
    "duration": -208,
    "start_time": "2022-02-09T12:02:22.286Z"
   },
   {
    "duration": -215,
    "start_time": "2022-02-09T12:02:22.294Z"
   },
   {
    "duration": -234,
    "start_time": "2022-02-09T12:02:22.315Z"
   },
   {
    "duration": -238,
    "start_time": "2022-02-09T12:02:22.320Z"
   },
   {
    "duration": -245,
    "start_time": "2022-02-09T12:02:22.329Z"
   },
   {
    "duration": -248,
    "start_time": "2022-02-09T12:02:22.333Z"
   },
   {
    "duration": -251,
    "start_time": "2022-02-09T12:02:22.338Z"
   },
   {
    "duration": -256,
    "start_time": "2022-02-09T12:02:22.344Z"
   },
   {
    "duration": -257,
    "start_time": "2022-02-09T12:02:22.347Z"
   },
   {
    "duration": -260,
    "start_time": "2022-02-09T12:02:22.352Z"
   },
   {
    "duration": -268,
    "start_time": "2022-02-09T12:02:22.361Z"
   },
   {
    "duration": -272,
    "start_time": "2022-02-09T12:02:22.367Z"
   },
   {
    "duration": -278,
    "start_time": "2022-02-09T12:02:22.374Z"
   },
   {
    "duration": -324,
    "start_time": "2022-02-09T12:02:22.422Z"
   },
   {
    "duration": -331,
    "start_time": "2022-02-09T12:02:22.430Z"
   },
   {
    "duration": -342,
    "start_time": "2022-02-09T12:02:22.443Z"
   },
   {
    "duration": -346,
    "start_time": "2022-02-09T12:02:22.448Z"
   },
   {
    "duration": -356,
    "start_time": "2022-02-09T12:02:22.460Z"
   },
   {
    "duration": -359,
    "start_time": "2022-02-09T12:02:22.464Z"
   },
   {
    "duration": 911,
    "start_time": "2022-02-09T12:05:04.130Z"
   },
   {
    "duration": 274,
    "start_time": "2022-02-09T12:05:05.044Z"
   },
   {
    "duration": 49,
    "start_time": "2022-02-09T12:05:05.322Z"
   },
   {
    "duration": 51,
    "start_time": "2022-02-09T12:05:05.375Z"
   },
   {
    "duration": 15,
    "start_time": "2022-02-09T12:05:05.428Z"
   },
   {
    "duration": 50,
    "start_time": "2022-02-09T12:05:05.446Z"
   },
   {
    "duration": 12,
    "start_time": "2022-02-09T12:05:05.499Z"
   },
   {
    "duration": 57,
    "start_time": "2022-02-09T12:05:05.517Z"
   },
   {
    "duration": 32,
    "start_time": "2022-02-09T12:05:05.578Z"
   },
   {
    "duration": 57,
    "start_time": "2022-02-09T12:05:05.613Z"
   },
   {
    "duration": 109,
    "start_time": "2022-02-09T12:05:05.673Z"
   },
   {
    "duration": 121,
    "start_time": "2022-02-09T12:05:05.785Z"
   },
   {
    "duration": 90,
    "start_time": "2022-02-09T12:05:05.909Z"
   },
   {
    "duration": 9,
    "start_time": "2022-02-09T12:05:06.002Z"
   },
   {
    "duration": 13,
    "start_time": "2022-02-09T12:05:06.014Z"
   },
   {
    "duration": 50,
    "start_time": "2022-02-09T12:05:06.030Z"
   },
   {
    "duration": 17,
    "start_time": "2022-02-09T12:05:06.083Z"
   },
   {
    "duration": 94,
    "start_time": "2022-02-09T12:05:06.103Z"
   },
   {
    "duration": 14,
    "start_time": "2022-02-09T12:05:06.200Z"
   },
   {
    "duration": 5,
    "start_time": "2022-02-09T12:05:06.216Z"
   },
   {
    "duration": 12,
    "start_time": "2022-02-09T12:05:06.224Z"
   },
   {
    "duration": 7,
    "start_time": "2022-02-09T12:05:06.238Z"
   },
   {
    "duration": 3,
    "start_time": "2022-02-09T12:05:06.273Z"
   },
   {
    "duration": 8,
    "start_time": "2022-02-09T12:05:06.280Z"
   },
   {
    "duration": 4,
    "start_time": "2022-02-09T12:05:06.291Z"
   },
   {
    "duration": 5,
    "start_time": "2022-02-09T12:05:06.298Z"
   },
   {
    "duration": 351,
    "start_time": "2022-02-09T12:05:06.305Z"
   },
   {
    "duration": -46,
    "start_time": "2022-02-09T12:05:06.705Z"
   },
   {
    "duration": -84,
    "start_time": "2022-02-09T12:05:06.744Z"
   },
   {
    "duration": -107,
    "start_time": "2022-02-09T12:05:06.769Z"
   },
   {
    "duration": -113,
    "start_time": "2022-02-09T12:05:06.776Z"
   },
   {
    "duration": -116,
    "start_time": "2022-02-09T12:05:06.781Z"
   },
   {
    "duration": -121,
    "start_time": "2022-02-09T12:05:06.787Z"
   },
   {
    "duration": -125,
    "start_time": "2022-02-09T12:05:06.792Z"
   },
   {
    "duration": -127,
    "start_time": "2022-02-09T12:05:06.796Z"
   },
   {
    "duration": -129,
    "start_time": "2022-02-09T12:05:06.799Z"
   },
   {
    "duration": -139,
    "start_time": "2022-02-09T12:05:06.810Z"
   },
   {
    "duration": -141,
    "start_time": "2022-02-09T12:05:06.814Z"
   },
   {
    "duration": 772,
    "start_time": "2022-02-09T12:26:09.805Z"
   },
   {
    "duration": 199,
    "start_time": "2022-02-09T12:26:10.580Z"
   },
   {
    "duration": 28,
    "start_time": "2022-02-09T12:26:10.783Z"
   },
   {
    "duration": 57,
    "start_time": "2022-02-09T12:26:10.814Z"
   },
   {
    "duration": 5,
    "start_time": "2022-02-09T12:26:10.874Z"
   },
   {
    "duration": 32,
    "start_time": "2022-02-09T12:26:10.882Z"
   },
   {
    "duration": 15,
    "start_time": "2022-02-09T12:26:10.917Z"
   },
   {
    "duration": 63,
    "start_time": "2022-02-09T12:26:10.935Z"
   },
   {
    "duration": 28,
    "start_time": "2022-02-09T12:26:11.003Z"
   },
   {
    "duration": 53,
    "start_time": "2022-02-09T12:26:11.034Z"
   },
   {
    "duration": 117,
    "start_time": "2022-02-09T12:26:11.090Z"
   },
   {
    "duration": 122,
    "start_time": "2022-02-09T12:26:11.209Z"
   },
   {
    "duration": 101,
    "start_time": "2022-02-09T12:26:11.333Z"
   },
   {
    "duration": 8,
    "start_time": "2022-02-09T12:26:11.437Z"
   },
   {
    "duration": 23,
    "start_time": "2022-02-09T12:26:11.448Z"
   },
   {
    "duration": 28,
    "start_time": "2022-02-09T12:26:11.474Z"
   },
   {
    "duration": 20,
    "start_time": "2022-02-09T12:26:11.505Z"
   },
   {
    "duration": 136,
    "start_time": "2022-02-09T12:26:11.528Z"
   },
   {
    "duration": 22,
    "start_time": "2022-02-09T12:26:11.669Z"
   },
   {
    "duration": 11,
    "start_time": "2022-02-09T12:26:11.694Z"
   },
   {
    "duration": 584,
    "start_time": "2022-02-09T12:26:11.708Z"
   },
   {
    "duration": -253,
    "start_time": "2022-02-09T12:26:12.548Z"
   },
   {
    "duration": -255,
    "start_time": "2022-02-09T12:26:12.553Z"
   },
   {
    "duration": -258,
    "start_time": "2022-02-09T12:26:12.557Z"
   },
   {
    "duration": -260,
    "start_time": "2022-02-09T12:26:12.561Z"
   },
   {
    "duration": -262,
    "start_time": "2022-02-09T12:26:12.564Z"
   },
   {
    "duration": -264,
    "start_time": "2022-02-09T12:26:12.568Z"
   },
   {
    "duration": -266,
    "start_time": "2022-02-09T12:26:12.571Z"
   },
   {
    "duration": -296,
    "start_time": "2022-02-09T12:26:12.602Z"
   },
   {
    "duration": -305,
    "start_time": "2022-02-09T12:26:12.613Z"
   },
   {
    "duration": -308,
    "start_time": "2022-02-09T12:26:12.617Z"
   },
   {
    "duration": -316,
    "start_time": "2022-02-09T12:26:12.627Z"
   },
   {
    "duration": -319,
    "start_time": "2022-02-09T12:26:12.631Z"
   },
   {
    "duration": -325,
    "start_time": "2022-02-09T12:26:12.639Z"
   },
   {
    "duration": -334,
    "start_time": "2022-02-09T12:26:12.649Z"
   },
   {
    "duration": -337,
    "start_time": "2022-02-09T12:26:12.653Z"
   },
   {
    "duration": -344,
    "start_time": "2022-02-09T12:26:12.662Z"
   },
   {
    "duration": -351,
    "start_time": "2022-02-09T12:26:12.670Z"
   },
   {
    "duration": 786,
    "start_time": "2022-02-09T12:27:02.159Z"
   },
   {
    "duration": 198,
    "start_time": "2022-02-09T12:27:02.947Z"
   },
   {
    "duration": 30,
    "start_time": "2022-02-09T12:27:03.148Z"
   },
   {
    "duration": 35,
    "start_time": "2022-02-09T12:27:03.181Z"
   },
   {
    "duration": 5,
    "start_time": "2022-02-09T12:27:03.219Z"
   },
   {
    "duration": 63,
    "start_time": "2022-02-09T12:27:03.226Z"
   },
   {
    "duration": 9,
    "start_time": "2022-02-09T12:27:03.292Z"
   },
   {
    "duration": 33,
    "start_time": "2022-02-09T12:27:03.303Z"
   },
   {
    "duration": 45,
    "start_time": "2022-02-09T12:27:03.341Z"
   },
   {
    "duration": 31,
    "start_time": "2022-02-09T12:27:03.389Z"
   },
   {
    "duration": 118,
    "start_time": "2022-02-09T12:27:03.423Z"
   },
   {
    "duration": 122,
    "start_time": "2022-02-09T12:27:03.543Z"
   },
   {
    "duration": 85,
    "start_time": "2022-02-09T12:27:03.668Z"
   },
   {
    "duration": 17,
    "start_time": "2022-02-09T12:27:03.756Z"
   },
   {
    "duration": 9,
    "start_time": "2022-02-09T12:27:03.776Z"
   },
   {
    "duration": 24,
    "start_time": "2022-02-09T12:27:03.788Z"
   },
   {
    "duration": 19,
    "start_time": "2022-02-09T12:27:03.815Z"
   },
   {
    "duration": 107,
    "start_time": "2022-02-09T12:27:03.837Z"
   },
   {
    "duration": 35,
    "start_time": "2022-02-09T12:27:03.946Z"
   },
   {
    "duration": 12,
    "start_time": "2022-02-09T12:27:03.983Z"
   },
   {
    "duration": 19,
    "start_time": "2022-02-09T12:27:03.998Z"
   },
   {
    "duration": 7,
    "start_time": "2022-02-09T12:27:04.019Z"
   },
   {
    "duration": 21,
    "start_time": "2022-02-09T12:27:04.029Z"
   },
   {
    "duration": 13,
    "start_time": "2022-02-09T12:27:04.052Z"
   },
   {
    "duration": 6,
    "start_time": "2022-02-09T12:27:04.069Z"
   },
   {
    "duration": 15,
    "start_time": "2022-02-09T12:27:04.078Z"
   },
   {
    "duration": 382,
    "start_time": "2022-02-09T12:27:04.098Z"
   },
   {
    "duration": -408,
    "start_time": "2022-02-09T12:27:04.891Z"
   },
   {
    "duration": -414,
    "start_time": "2022-02-09T12:27:04.898Z"
   },
   {
    "duration": -417,
    "start_time": "2022-02-09T12:27:04.903Z"
   },
   {
    "duration": -418,
    "start_time": "2022-02-09T12:27:04.906Z"
   },
   {
    "duration": -420,
    "start_time": "2022-02-09T12:27:04.909Z"
   },
   {
    "duration": -422,
    "start_time": "2022-02-09T12:27:04.913Z"
   },
   {
    "duration": -439,
    "start_time": "2022-02-09T12:27:04.932Z"
   },
   {
    "duration": -441,
    "start_time": "2022-02-09T12:27:04.935Z"
   },
   {
    "duration": -443,
    "start_time": "2022-02-09T12:27:04.939Z"
   },
   {
    "duration": -445,
    "start_time": "2022-02-09T12:27:04.942Z"
   },
   {
    "duration": -447,
    "start_time": "2022-02-09T12:27:04.946Z"
   },
   {
    "duration": 887,
    "start_time": "2022-02-09T12:30:05.746Z"
   },
   {
    "duration": 201,
    "start_time": "2022-02-09T12:30:06.636Z"
   },
   {
    "duration": 37,
    "start_time": "2022-02-09T12:30:06.840Z"
   },
   {
    "duration": 34,
    "start_time": "2022-02-09T12:30:06.880Z"
   },
   {
    "duration": 8,
    "start_time": "2022-02-09T12:30:06.916Z"
   },
   {
    "duration": 60,
    "start_time": "2022-02-09T12:30:06.926Z"
   },
   {
    "duration": 4,
    "start_time": "2022-02-09T12:30:06.989Z"
   },
   {
    "duration": 30,
    "start_time": "2022-02-09T12:30:06.997Z"
   },
   {
    "duration": 52,
    "start_time": "2022-02-09T12:30:07.030Z"
   },
   {
    "duration": 30,
    "start_time": "2022-02-09T12:30:07.085Z"
   },
   {
    "duration": 107,
    "start_time": "2022-02-09T12:30:07.117Z"
   },
   {
    "duration": 117,
    "start_time": "2022-02-09T12:30:07.226Z"
   },
   {
    "duration": 90,
    "start_time": "2022-02-09T12:30:07.346Z"
   },
   {
    "duration": 7,
    "start_time": "2022-02-09T12:30:07.438Z"
   },
   {
    "duration": 21,
    "start_time": "2022-02-09T12:30:07.448Z"
   },
   {
    "duration": 25,
    "start_time": "2022-02-09T12:30:07.472Z"
   },
   {
    "duration": 18,
    "start_time": "2022-02-09T12:30:07.500Z"
   },
   {
    "duration": 101,
    "start_time": "2022-02-09T12:30:07.520Z"
   },
   {
    "duration": 16,
    "start_time": "2022-02-09T12:30:07.623Z"
   },
   {
    "duration": 4,
    "start_time": "2022-02-09T12:30:07.642Z"
   },
   {
    "duration": 13,
    "start_time": "2022-02-09T12:30:07.668Z"
   },
   {
    "duration": 3,
    "start_time": "2022-02-09T12:30:07.684Z"
   },
   {
    "duration": 12,
    "start_time": "2022-02-09T12:30:07.692Z"
   },
   {
    "duration": 7,
    "start_time": "2022-02-09T12:30:07.706Z"
   },
   {
    "duration": 13,
    "start_time": "2022-02-09T12:30:07.715Z"
   },
   {
    "duration": 3,
    "start_time": "2022-02-09T12:30:07.731Z"
   },
   {
    "duration": 386,
    "start_time": "2022-02-09T12:30:07.770Z"
   },
   {
    "duration": -324,
    "start_time": "2022-02-09T12:30:08.483Z"
   },
   {
    "duration": -328,
    "start_time": "2022-02-09T12:30:08.488Z"
   },
   {
    "duration": -333,
    "start_time": "2022-02-09T12:30:08.495Z"
   },
   {
    "duration": -336,
    "start_time": "2022-02-09T12:30:08.499Z"
   },
   {
    "duration": -338,
    "start_time": "2022-02-09T12:30:08.503Z"
   },
   {
    "duration": -341,
    "start_time": "2022-02-09T12:30:08.507Z"
   },
   {
    "duration": -346,
    "start_time": "2022-02-09T12:30:08.514Z"
   },
   {
    "duration": -352,
    "start_time": "2022-02-09T12:30:08.521Z"
   },
   {
    "duration": -356,
    "start_time": "2022-02-09T12:30:08.526Z"
   },
   {
    "duration": -358,
    "start_time": "2022-02-09T12:30:08.530Z"
   },
   {
    "duration": -360,
    "start_time": "2022-02-09T12:30:08.533Z"
   },
   {
    "duration": 803,
    "start_time": "2022-02-09T12:31:50.823Z"
   },
   {
    "duration": 198,
    "start_time": "2022-02-09T12:31:51.630Z"
   },
   {
    "duration": 39,
    "start_time": "2022-02-09T12:31:51.831Z"
   },
   {
    "duration": 42,
    "start_time": "2022-02-09T12:31:51.873Z"
   },
   {
    "duration": 20,
    "start_time": "2022-02-09T12:31:51.919Z"
   },
   {
    "duration": 44,
    "start_time": "2022-02-09T12:31:51.942Z"
   },
   {
    "duration": 16,
    "start_time": "2022-02-09T12:31:51.988Z"
   },
   {
    "duration": 49,
    "start_time": "2022-02-09T12:31:52.010Z"
   },
   {
    "duration": 40,
    "start_time": "2022-02-09T12:31:52.062Z"
   },
   {
    "duration": 39,
    "start_time": "2022-02-09T12:31:52.105Z"
   },
   {
    "duration": 99,
    "start_time": "2022-02-09T12:31:52.147Z"
   },
   {
    "duration": 126,
    "start_time": "2022-02-09T12:31:52.249Z"
   },
   {
    "duration": 94,
    "start_time": "2022-02-09T12:31:52.378Z"
   },
   {
    "duration": 10,
    "start_time": "2022-02-09T12:31:52.474Z"
   },
   {
    "duration": 9,
    "start_time": "2022-02-09T12:31:52.487Z"
   },
   {
    "duration": 40,
    "start_time": "2022-02-09T12:31:52.498Z"
   },
   {
    "duration": 30,
    "start_time": "2022-02-09T12:31:52.541Z"
   },
   {
    "duration": 74,
    "start_time": "2022-02-09T12:31:52.574Z"
   },
   {
    "duration": 31,
    "start_time": "2022-02-09T12:31:52.650Z"
   },
   {
    "duration": 7,
    "start_time": "2022-02-09T12:31:52.683Z"
   },
   {
    "duration": 29,
    "start_time": "2022-02-09T12:31:52.693Z"
   },
   {
    "duration": 7,
    "start_time": "2022-02-09T12:31:52.724Z"
   },
   {
    "duration": 36,
    "start_time": "2022-02-09T12:31:52.733Z"
   },
   {
    "duration": 11,
    "start_time": "2022-02-09T12:31:52.771Z"
   },
   {
    "duration": 27,
    "start_time": "2022-02-09T12:31:52.784Z"
   },
   {
    "duration": 19,
    "start_time": "2022-02-09T12:31:52.818Z"
   },
   {
    "duration": 432,
    "start_time": "2022-02-09T12:31:52.840Z"
   },
   {
    "duration": -116,
    "start_time": "2022-02-09T12:31:53.390Z"
   },
   {
    "duration": -123,
    "start_time": "2022-02-09T12:31:53.398Z"
   },
   {
    "duration": -126,
    "start_time": "2022-02-09T12:31:53.403Z"
   },
   {
    "duration": -129,
    "start_time": "2022-02-09T12:31:53.407Z"
   },
   {
    "duration": -132,
    "start_time": "2022-02-09T12:31:53.411Z"
   },
   {
    "duration": -135,
    "start_time": "2022-02-09T12:31:53.415Z"
   },
   {
    "duration": -140,
    "start_time": "2022-02-09T12:31:53.422Z"
   },
   {
    "duration": -142,
    "start_time": "2022-02-09T12:31:53.425Z"
   },
   {
    "duration": -147,
    "start_time": "2022-02-09T12:31:53.432Z"
   },
   {
    "duration": -150,
    "start_time": "2022-02-09T12:31:53.436Z"
   },
   {
    "duration": -152,
    "start_time": "2022-02-09T12:31:53.439Z"
   },
   {
    "duration": 750,
    "start_time": "2022-02-09T12:47:06.808Z"
   },
   {
    "duration": 213,
    "start_time": "2022-02-09T12:47:07.561Z"
   },
   {
    "duration": 26,
    "start_time": "2022-02-09T12:47:07.777Z"
   },
   {
    "duration": 33,
    "start_time": "2022-02-09T12:47:07.806Z"
   },
   {
    "duration": 5,
    "start_time": "2022-02-09T12:47:07.842Z"
   },
   {
    "duration": 38,
    "start_time": "2022-02-09T12:47:07.850Z"
   },
   {
    "duration": 7,
    "start_time": "2022-02-09T12:47:07.890Z"
   },
   {
    "duration": 33,
    "start_time": "2022-02-09T12:47:07.901Z"
   },
   {
    "duration": 32,
    "start_time": "2022-02-09T12:47:07.937Z"
   },
   {
    "duration": 31,
    "start_time": "2022-02-09T12:47:07.971Z"
   },
   {
    "duration": 97,
    "start_time": "2022-02-09T12:47:08.005Z"
   },
   {
    "duration": 110,
    "start_time": "2022-02-09T12:47:08.104Z"
   },
   {
    "duration": 85,
    "start_time": "2022-02-09T12:47:08.217Z"
   },
   {
    "duration": 8,
    "start_time": "2022-02-09T12:47:08.305Z"
   },
   {
    "duration": 17,
    "start_time": "2022-02-09T12:47:08.315Z"
   },
   {
    "duration": 41,
    "start_time": "2022-02-09T12:47:08.335Z"
   },
   {
    "duration": 18,
    "start_time": "2022-02-09T12:47:08.379Z"
   },
   {
    "duration": 78,
    "start_time": "2022-02-09T12:47:08.400Z"
   },
   {
    "duration": 15,
    "start_time": "2022-02-09T12:47:08.480Z"
   },
   {
    "duration": 5,
    "start_time": "2022-02-09T12:47:08.498Z"
   },
   {
    "duration": 23,
    "start_time": "2022-02-09T12:47:08.505Z"
   },
   {
    "duration": 3,
    "start_time": "2022-02-09T12:47:08.530Z"
   },
   {
    "duration": 17,
    "start_time": "2022-02-09T12:47:08.535Z"
   },
   {
    "duration": 4,
    "start_time": "2022-02-09T12:47:08.555Z"
   },
   {
    "duration": 13,
    "start_time": "2022-02-09T12:47:08.561Z"
   },
   {
    "duration": 3,
    "start_time": "2022-02-09T12:47:08.579Z"
   },
   {
    "duration": 511,
    "start_time": "2022-02-09T12:47:08.585Z"
   },
   {
    "duration": -851,
    "start_time": "2022-02-09T12:47:09.949Z"
   },
   {
    "duration": -854,
    "start_time": "2022-02-09T12:47:09.954Z"
   },
   {
    "duration": -858,
    "start_time": "2022-02-09T12:47:09.959Z"
   },
   {
    "duration": -860,
    "start_time": "2022-02-09T12:47:09.963Z"
   },
   {
    "duration": -861,
    "start_time": "2022-02-09T12:47:09.966Z"
   },
   {
    "duration": -864,
    "start_time": "2022-02-09T12:47:09.970Z"
   },
   {
    "duration": -865,
    "start_time": "2022-02-09T12:47:09.973Z"
   },
   {
    "duration": -868,
    "start_time": "2022-02-09T12:47:09.977Z"
   },
   {
    "duration": -870,
    "start_time": "2022-02-09T12:47:09.981Z"
   },
   {
    "duration": -878,
    "start_time": "2022-02-09T12:47:09.990Z"
   },
   {
    "duration": -879,
    "start_time": "2022-02-09T12:47:09.993Z"
   },
   {
    "duration": 1052,
    "start_time": "2022-02-09T12:48:33.161Z"
   },
   {
    "duration": 191,
    "start_time": "2022-02-09T12:48:34.217Z"
   },
   {
    "duration": 25,
    "start_time": "2022-02-09T12:48:34.410Z"
   },
   {
    "duration": 55,
    "start_time": "2022-02-09T12:48:34.438Z"
   },
   {
    "duration": 5,
    "start_time": "2022-02-09T12:48:34.496Z"
   },
   {
    "duration": 34,
    "start_time": "2022-02-09T12:48:34.503Z"
   },
   {
    "duration": 29,
    "start_time": "2022-02-09T12:48:34.541Z"
   },
   {
    "duration": 32,
    "start_time": "2022-02-09T12:48:34.574Z"
   },
   {
    "duration": 23,
    "start_time": "2022-02-09T12:48:34.609Z"
   },
   {
    "duration": 58,
    "start_time": "2022-02-09T12:48:34.635Z"
   },
   {
    "duration": 112,
    "start_time": "2022-02-09T12:48:34.696Z"
   },
   {
    "duration": 121,
    "start_time": "2022-02-09T12:48:34.810Z"
   },
   {
    "duration": 93,
    "start_time": "2022-02-09T12:48:34.934Z"
   },
   {
    "duration": 8,
    "start_time": "2022-02-09T12:48:35.029Z"
   },
   {
    "duration": 5,
    "start_time": "2022-02-09T12:48:35.039Z"
   },
   {
    "duration": 57,
    "start_time": "2022-02-09T12:48:35.046Z"
   },
   {
    "duration": 26,
    "start_time": "2022-02-09T12:48:35.107Z"
   },
   {
    "duration": 97,
    "start_time": "2022-02-09T12:48:35.136Z"
   },
   {
    "duration": 14,
    "start_time": "2022-02-09T12:48:35.236Z"
   },
   {
    "duration": 16,
    "start_time": "2022-02-09T12:48:35.253Z"
   },
   {
    "duration": 16,
    "start_time": "2022-02-09T12:48:35.272Z"
   },
   {
    "duration": 12,
    "start_time": "2022-02-09T12:48:35.290Z"
   },
   {
    "duration": 12,
    "start_time": "2022-02-09T12:48:35.308Z"
   },
   {
    "duration": 6,
    "start_time": "2022-02-09T12:48:35.322Z"
   },
   {
    "duration": 47,
    "start_time": "2022-02-09T12:48:35.330Z"
   },
   {
    "duration": 5,
    "start_time": "2022-02-09T12:48:35.380Z"
   },
   {
    "duration": 388,
    "start_time": "2022-02-09T12:48:35.388Z"
   },
   {
    "duration": -110,
    "start_time": "2022-02-09T12:48:35.888Z"
   },
   {
    "duration": -114,
    "start_time": "2022-02-09T12:48:35.894Z"
   },
   {
    "duration": -118,
    "start_time": "2022-02-09T12:48:35.899Z"
   },
   {
    "duration": -128,
    "start_time": "2022-02-09T12:48:35.911Z"
   },
   {
    "duration": -132,
    "start_time": "2022-02-09T12:48:35.916Z"
   },
   {
    "duration": -136,
    "start_time": "2022-02-09T12:48:35.922Z"
   },
   {
    "duration": -142,
    "start_time": "2022-02-09T12:48:35.929Z"
   },
   {
    "duration": -156,
    "start_time": "2022-02-09T12:48:35.944Z"
   },
   {
    "duration": -171,
    "start_time": "2022-02-09T12:48:35.960Z"
   },
   {
    "duration": -174,
    "start_time": "2022-02-09T12:48:35.964Z"
   },
   {
    "duration": -177,
    "start_time": "2022-02-09T12:48:35.969Z"
   },
   {
    "duration": 818,
    "start_time": "2022-02-09T12:48:59.764Z"
   },
   {
    "duration": 200,
    "start_time": "2022-02-09T12:49:00.585Z"
   },
   {
    "duration": 26,
    "start_time": "2022-02-09T12:49:00.789Z"
   },
   {
    "duration": 56,
    "start_time": "2022-02-09T12:49:00.818Z"
   },
   {
    "duration": 6,
    "start_time": "2022-02-09T12:49:00.877Z"
   },
   {
    "duration": 37,
    "start_time": "2022-02-09T12:49:00.886Z"
   },
   {
    "duration": 26,
    "start_time": "2022-02-09T12:49:00.926Z"
   },
   {
    "duration": 63,
    "start_time": "2022-02-09T12:49:00.956Z"
   },
   {
    "duration": 36,
    "start_time": "2022-02-09T12:49:01.023Z"
   },
   {
    "duration": 46,
    "start_time": "2022-02-09T12:49:01.062Z"
   },
   {
    "duration": 115,
    "start_time": "2022-02-09T12:49:01.110Z"
   },
   {
    "duration": 112,
    "start_time": "2022-02-09T12:49:01.227Z"
   },
   {
    "duration": 94,
    "start_time": "2022-02-09T12:49:01.341Z"
   },
   {
    "duration": 8,
    "start_time": "2022-02-09T12:49:01.438Z"
   },
   {
    "duration": 22,
    "start_time": "2022-02-09T12:49:01.449Z"
   },
   {
    "duration": 44,
    "start_time": "2022-02-09T12:49:01.475Z"
   },
   {
    "duration": 19,
    "start_time": "2022-02-09T12:49:01.522Z"
   },
   {
    "duration": 96,
    "start_time": "2022-02-09T12:49:01.545Z"
   },
   {
    "duration": 27,
    "start_time": "2022-02-09T12:49:01.643Z"
   },
   {
    "duration": 5,
    "start_time": "2022-02-09T12:49:01.673Z"
   },
   {
    "duration": 27,
    "start_time": "2022-02-09T12:49:01.680Z"
   },
   {
    "duration": 8,
    "start_time": "2022-02-09T12:49:01.710Z"
   },
   {
    "duration": 20,
    "start_time": "2022-02-09T12:49:01.721Z"
   },
   {
    "duration": 13,
    "start_time": "2022-02-09T12:49:01.744Z"
   },
   {
    "duration": 22,
    "start_time": "2022-02-09T12:49:01.760Z"
   },
   {
    "duration": 13,
    "start_time": "2022-02-09T12:49:01.784Z"
   },
   {
    "duration": 385,
    "start_time": "2022-02-09T12:49:01.802Z"
   },
   {
    "duration": -98,
    "start_time": "2022-02-09T12:49:02.288Z"
   },
   {
    "duration": -104,
    "start_time": "2022-02-09T12:49:02.295Z"
   },
   {
    "duration": -130,
    "start_time": "2022-02-09T12:49:02.323Z"
   },
   {
    "duration": -143,
    "start_time": "2022-02-09T12:49:02.337Z"
   },
   {
    "duration": -146,
    "start_time": "2022-02-09T12:49:02.341Z"
   },
   {
    "duration": -156,
    "start_time": "2022-02-09T12:49:02.352Z"
   },
   {
    "duration": -158,
    "start_time": "2022-02-09T12:49:02.356Z"
   },
   {
    "duration": -161,
    "start_time": "2022-02-09T12:49:02.360Z"
   },
   {
    "duration": -184,
    "start_time": "2022-02-09T12:49:02.384Z"
   },
   {
    "duration": -186,
    "start_time": "2022-02-09T12:49:02.387Z"
   },
   {
    "duration": -188,
    "start_time": "2022-02-09T12:49:02.391Z"
   },
   {
    "duration": 832,
    "start_time": "2022-02-09T12:49:31.122Z"
   },
   {
    "duration": 204,
    "start_time": "2022-02-09T12:49:31.956Z"
   },
   {
    "duration": 29,
    "start_time": "2022-02-09T12:49:32.168Z"
   },
   {
    "duration": 58,
    "start_time": "2022-02-09T12:49:32.200Z"
   },
   {
    "duration": 16,
    "start_time": "2022-02-09T12:49:32.261Z"
   },
   {
    "duration": 49,
    "start_time": "2022-02-09T12:49:32.280Z"
   },
   {
    "duration": 28,
    "start_time": "2022-02-09T12:49:32.332Z"
   },
   {
    "duration": 46,
    "start_time": "2022-02-09T12:49:32.364Z"
   },
   {
    "duration": 49,
    "start_time": "2022-02-09T12:49:32.413Z"
   },
   {
    "duration": 41,
    "start_time": "2022-02-09T12:49:32.465Z"
   },
   {
    "duration": 95,
    "start_time": "2022-02-09T12:49:32.509Z"
   },
   {
    "duration": 118,
    "start_time": "2022-02-09T12:49:32.607Z"
   },
   {
    "duration": 92,
    "start_time": "2022-02-09T12:49:32.728Z"
   },
   {
    "duration": 8,
    "start_time": "2022-02-09T12:49:32.822Z"
   },
   {
    "duration": 30,
    "start_time": "2022-02-09T12:49:32.832Z"
   },
   {
    "duration": 41,
    "start_time": "2022-02-09T12:49:32.865Z"
   },
   {
    "duration": 45,
    "start_time": "2022-02-09T12:49:32.909Z"
   },
   {
    "duration": 83,
    "start_time": "2022-02-09T12:49:32.956Z"
   },
   {
    "duration": 14,
    "start_time": "2022-02-09T12:49:33.041Z"
   },
   {
    "duration": 17,
    "start_time": "2022-02-09T12:49:33.057Z"
   },
   {
    "duration": 53,
    "start_time": "2022-02-09T12:49:33.077Z"
   },
   {
    "duration": 21,
    "start_time": "2022-02-09T12:49:33.132Z"
   },
   {
    "duration": 49,
    "start_time": "2022-02-09T12:49:33.158Z"
   },
   {
    "duration": 31,
    "start_time": "2022-02-09T12:49:33.210Z"
   },
   {
    "duration": 24,
    "start_time": "2022-02-09T12:49:33.243Z"
   },
   {
    "duration": 33,
    "start_time": "2022-02-09T12:49:33.269Z"
   },
   {
    "duration": 380,
    "start_time": "2022-02-09T12:49:33.304Z"
   },
   {
    "duration": -130,
    "start_time": "2022-02-09T12:49:33.817Z"
   },
   {
    "duration": -164,
    "start_time": "2022-02-09T12:49:33.852Z"
   },
   {
    "duration": -176,
    "start_time": "2022-02-09T12:49:33.866Z"
   },
   {
    "duration": -179,
    "start_time": "2022-02-09T12:49:33.870Z"
   },
   {
    "duration": -181,
    "start_time": "2022-02-09T12:49:33.873Z"
   },
   {
    "duration": -184,
    "start_time": "2022-02-09T12:49:33.878Z"
   },
   {
    "duration": -188,
    "start_time": "2022-02-09T12:49:33.883Z"
   },
   {
    "duration": -191,
    "start_time": "2022-02-09T12:49:33.888Z"
   },
   {
    "duration": -194,
    "start_time": "2022-02-09T12:49:33.893Z"
   },
   {
    "duration": -211,
    "start_time": "2022-02-09T12:49:33.912Z"
   },
   {
    "duration": -216,
    "start_time": "2022-02-09T12:49:33.918Z"
   },
   {
    "duration": 797,
    "start_time": "2022-02-09T12:51:16.657Z"
   },
   {
    "duration": 189,
    "start_time": "2022-02-09T12:51:17.458Z"
   },
   {
    "duration": 36,
    "start_time": "2022-02-09T12:51:17.651Z"
   },
   {
    "duration": 40,
    "start_time": "2022-02-09T12:51:17.691Z"
   },
   {
    "duration": 37,
    "start_time": "2022-02-09T12:51:17.734Z"
   },
   {
    "duration": 31,
    "start_time": "2022-02-09T12:51:17.774Z"
   },
   {
    "duration": 5,
    "start_time": "2022-02-09T12:51:17.807Z"
   },
   {
    "duration": 61,
    "start_time": "2022-02-09T12:51:17.816Z"
   },
   {
    "duration": 23,
    "start_time": "2022-02-09T12:51:17.880Z"
   },
   {
    "duration": 32,
    "start_time": "2022-02-09T12:51:17.906Z"
   },
   {
    "duration": 114,
    "start_time": "2022-02-09T12:51:17.940Z"
   },
   {
    "duration": 113,
    "start_time": "2022-02-09T12:51:18.070Z"
   },
   {
    "duration": 88,
    "start_time": "2022-02-09T12:51:18.185Z"
   },
   {
    "duration": 8,
    "start_time": "2022-02-09T12:51:18.275Z"
   },
   {
    "duration": 7,
    "start_time": "2022-02-09T12:51:18.286Z"
   },
   {
    "duration": 24,
    "start_time": "2022-02-09T12:51:18.296Z"
   },
   {
    "duration": 56,
    "start_time": "2022-02-09T12:51:18.323Z"
   },
   {
    "duration": 88,
    "start_time": "2022-02-09T12:51:18.382Z"
   },
   {
    "duration": 15,
    "start_time": "2022-02-09T12:51:18.472Z"
   },
   {
    "duration": 5,
    "start_time": "2022-02-09T12:51:18.489Z"
   },
   {
    "duration": 40,
    "start_time": "2022-02-09T12:51:18.496Z"
   },
   {
    "duration": 3,
    "start_time": "2022-02-09T12:51:18.538Z"
   },
   {
    "duration": 40,
    "start_time": "2022-02-09T12:51:18.546Z"
   },
   {
    "duration": 3,
    "start_time": "2022-02-09T12:51:18.590Z"
   },
   {
    "duration": 26,
    "start_time": "2022-02-09T12:51:18.596Z"
   },
   {
    "duration": 3,
    "start_time": "2022-02-09T12:51:18.625Z"
   },
   {
    "duration": 396,
    "start_time": "2022-02-09T12:51:18.631Z"
   },
   {
    "duration": -101,
    "start_time": "2022-02-09T12:51:19.131Z"
   },
   {
    "duration": -103,
    "start_time": "2022-02-09T12:51:19.135Z"
   },
   {
    "duration": -108,
    "start_time": "2022-02-09T12:51:19.142Z"
   },
   {
    "duration": -112,
    "start_time": "2022-02-09T12:51:19.148Z"
   },
   {
    "duration": -115,
    "start_time": "2022-02-09T12:51:19.153Z"
   },
   {
    "duration": -117,
    "start_time": "2022-02-09T12:51:19.157Z"
   },
   {
    "duration": -132,
    "start_time": "2022-02-09T12:51:19.174Z"
   },
   {
    "duration": -137,
    "start_time": "2022-02-09T12:51:19.181Z"
   },
   {
    "duration": -145,
    "start_time": "2022-02-09T12:51:19.192Z"
   },
   {
    "duration": -149,
    "start_time": "2022-02-09T12:51:19.198Z"
   },
   {
    "duration": -155,
    "start_time": "2022-02-09T12:51:19.207Z"
   },
   {
    "duration": 770,
    "start_time": "2022-02-09T12:54:25.285Z"
   },
   {
    "duration": 197,
    "start_time": "2022-02-09T12:54:26.058Z"
   },
   {
    "duration": 29,
    "start_time": "2022-02-09T12:54:26.258Z"
   },
   {
    "duration": 35,
    "start_time": "2022-02-09T12:54:26.290Z"
   },
   {
    "duration": 6,
    "start_time": "2022-02-09T12:54:26.327Z"
   },
   {
    "duration": 57,
    "start_time": "2022-02-09T12:54:26.335Z"
   },
   {
    "duration": 7,
    "start_time": "2022-02-09T12:54:26.395Z"
   },
   {
    "duration": 33,
    "start_time": "2022-02-09T12:54:26.406Z"
   },
   {
    "duration": 47,
    "start_time": "2022-02-09T12:54:26.442Z"
   },
   {
    "duration": 32,
    "start_time": "2022-02-09T12:54:26.492Z"
   },
   {
    "duration": 119,
    "start_time": "2022-02-09T12:54:26.526Z"
   },
   {
    "duration": 110,
    "start_time": "2022-02-09T12:54:26.648Z"
   },
   {
    "duration": 89,
    "start_time": "2022-02-09T12:54:26.761Z"
   },
   {
    "duration": 22,
    "start_time": "2022-02-09T12:54:26.852Z"
   },
   {
    "duration": 5,
    "start_time": "2022-02-09T12:54:26.876Z"
   },
   {
    "duration": 26,
    "start_time": "2022-02-09T12:54:26.883Z"
   },
   {
    "duration": 20,
    "start_time": "2022-02-09T12:54:26.912Z"
   },
   {
    "duration": 77,
    "start_time": "2022-02-09T12:54:26.970Z"
   },
   {
    "duration": 27,
    "start_time": "2022-02-09T12:54:27.050Z"
   },
   {
    "duration": 5,
    "start_time": "2022-02-09T12:54:27.080Z"
   },
   {
    "duration": 29,
    "start_time": "2022-02-09T12:54:27.087Z"
   },
   {
    "duration": 52,
    "start_time": "2022-02-09T12:54:27.119Z"
   },
   {
    "duration": 20,
    "start_time": "2022-02-09T12:54:27.175Z"
   },
   {
    "duration": 4,
    "start_time": "2022-02-09T12:54:27.197Z"
   },
   {
    "duration": 25,
    "start_time": "2022-02-09T12:54:27.203Z"
   },
   {
    "duration": 3,
    "start_time": "2022-02-09T12:54:27.231Z"
   },
   {
    "duration": 468,
    "start_time": "2022-02-09T12:54:27.236Z"
   },
   {
    "duration": -265,
    "start_time": "2022-02-09T12:54:27.972Z"
   },
   {
    "duration": -268,
    "start_time": "2022-02-09T12:54:27.976Z"
   },
   {
    "duration": -270,
    "start_time": "2022-02-09T12:54:27.980Z"
   },
   {
    "duration": -271,
    "start_time": "2022-02-09T12:54:27.983Z"
   },
   {
    "duration": -273,
    "start_time": "2022-02-09T12:54:27.986Z"
   },
   {
    "duration": -274,
    "start_time": "2022-02-09T12:54:27.989Z"
   },
   {
    "duration": -408,
    "start_time": "2022-02-09T12:54:28.124Z"
   },
   {
    "duration": -411,
    "start_time": "2022-02-09T12:54:28.128Z"
   },
   {
    "duration": -428,
    "start_time": "2022-02-09T12:54:28.146Z"
   },
   {
    "duration": -465,
    "start_time": "2022-02-09T12:54:28.185Z"
   },
   {
    "duration": -487,
    "start_time": "2022-02-09T12:54:28.208Z"
   },
   {
    "duration": 799,
    "start_time": "2022-02-09T12:55:57.223Z"
   },
   {
    "duration": 198,
    "start_time": "2022-02-09T12:55:58.025Z"
   },
   {
    "duration": 28,
    "start_time": "2022-02-09T12:55:58.226Z"
   },
   {
    "duration": 33,
    "start_time": "2022-02-09T12:55:58.269Z"
   },
   {
    "duration": 5,
    "start_time": "2022-02-09T12:55:58.305Z"
   },
   {
    "duration": 60,
    "start_time": "2022-02-09T12:55:58.312Z"
   },
   {
    "duration": 5,
    "start_time": "2022-02-09T12:55:58.374Z"
   },
   {
    "duration": 51,
    "start_time": "2022-02-09T12:55:58.383Z"
   },
   {
    "duration": 32,
    "start_time": "2022-02-09T12:55:58.437Z"
   },
   {
    "duration": 35,
    "start_time": "2022-02-09T12:55:58.472Z"
   },
   {
    "duration": 106,
    "start_time": "2022-02-09T12:55:58.509Z"
   },
   {
    "duration": 121,
    "start_time": "2022-02-09T12:55:58.617Z"
   },
   {
    "duration": 94,
    "start_time": "2022-02-09T12:55:58.741Z"
   },
   {
    "duration": 8,
    "start_time": "2022-02-09T12:55:58.838Z"
   },
   {
    "duration": 21,
    "start_time": "2022-02-09T12:55:58.848Z"
   },
   {
    "duration": 29,
    "start_time": "2022-02-09T12:55:58.872Z"
   },
   {
    "duration": 18,
    "start_time": "2022-02-09T12:55:58.903Z"
   },
   {
    "duration": 100,
    "start_time": "2022-02-09T12:55:58.923Z"
   },
   {
    "duration": 17,
    "start_time": "2022-02-09T12:55:59.026Z"
   },
   {
    "duration": 25,
    "start_time": "2022-02-09T12:55:59.046Z"
   },
   {
    "duration": 35,
    "start_time": "2022-02-09T12:55:59.074Z"
   },
   {
    "duration": 22,
    "start_time": "2022-02-09T12:55:59.112Z"
   },
   {
    "duration": 42,
    "start_time": "2022-02-09T12:55:59.141Z"
   },
   {
    "duration": 22,
    "start_time": "2022-02-09T12:55:59.187Z"
   },
   {
    "duration": 62,
    "start_time": "2022-02-09T12:55:59.212Z"
   },
   {
    "duration": 24,
    "start_time": "2022-02-09T12:55:59.276Z"
   },
   {
    "duration": 411,
    "start_time": "2022-02-09T12:55:59.302Z"
   },
   {
    "duration": -143,
    "start_time": "2022-02-09T12:55:59.860Z"
   },
   {
    "duration": -168,
    "start_time": "2022-02-09T12:55:59.887Z"
   },
   {
    "duration": -190,
    "start_time": "2022-02-09T12:55:59.911Z"
   },
   {
    "duration": -250,
    "start_time": "2022-02-09T12:55:59.973Z"
   },
   {
    "duration": -274,
    "start_time": "2022-02-09T12:55:59.999Z"
   },
   {
    "duration": -277,
    "start_time": "2022-02-09T12:56:00.004Z"
   },
   {
    "duration": -279,
    "start_time": "2022-02-09T12:56:00.008Z"
   },
   {
    "duration": -285,
    "start_time": "2022-02-09T12:56:00.016Z"
   },
   {
    "duration": -287,
    "start_time": "2022-02-09T12:56:00.020Z"
   },
   {
    "duration": -290,
    "start_time": "2022-02-09T12:56:00.025Z"
   },
   {
    "duration": -295,
    "start_time": "2022-02-09T12:56:00.032Z"
   },
   {
    "duration": 800,
    "start_time": "2022-02-09T12:58:10.079Z"
   },
   {
    "duration": 201,
    "start_time": "2022-02-09T12:58:10.881Z"
   },
   {
    "duration": 27,
    "start_time": "2022-02-09T12:58:11.085Z"
   },
   {
    "duration": 54,
    "start_time": "2022-02-09T12:58:11.115Z"
   },
   {
    "duration": 5,
    "start_time": "2022-02-09T12:58:11.172Z"
   },
   {
    "duration": 45,
    "start_time": "2022-02-09T12:58:11.179Z"
   },
   {
    "duration": 16,
    "start_time": "2022-02-09T12:58:11.226Z"
   },
   {
    "duration": 46,
    "start_time": "2022-02-09T12:58:11.245Z"
   },
   {
    "duration": 24,
    "start_time": "2022-02-09T12:58:11.294Z"
   },
   {
    "duration": 51,
    "start_time": "2022-02-09T12:58:11.320Z"
   },
   {
    "duration": 98,
    "start_time": "2022-02-09T12:58:11.373Z"
   },
   {
    "duration": 123,
    "start_time": "2022-02-09T12:58:11.473Z"
   },
   {
    "duration": 96,
    "start_time": "2022-02-09T12:58:11.598Z"
   },
   {
    "duration": 10,
    "start_time": "2022-02-09T12:58:11.697Z"
   },
   {
    "duration": 6,
    "start_time": "2022-02-09T12:58:11.710Z"
   },
   {
    "duration": 56,
    "start_time": "2022-02-09T12:58:11.719Z"
   },
   {
    "duration": 19,
    "start_time": "2022-02-09T12:58:11.778Z"
   },
   {
    "duration": 96,
    "start_time": "2022-02-09T12:58:11.800Z"
   },
   {
    "duration": 14,
    "start_time": "2022-02-09T12:58:11.898Z"
   },
   {
    "duration": 5,
    "start_time": "2022-02-09T12:58:11.915Z"
   },
   {
    "duration": 48,
    "start_time": "2022-02-09T12:58:11.922Z"
   },
   {
    "duration": 21,
    "start_time": "2022-02-09T12:58:11.973Z"
   },
   {
    "duration": 26,
    "start_time": "2022-02-09T12:58:11.999Z"
   },
   {
    "duration": 44,
    "start_time": "2022-02-09T12:58:12.028Z"
   },
   {
    "duration": 24,
    "start_time": "2022-02-09T12:58:12.075Z"
   },
   {
    "duration": 20,
    "start_time": "2022-02-09T12:58:12.101Z"
   },
   {
    "duration": 369,
    "start_time": "2022-02-09T12:58:12.123Z"
   },
   {
    "duration": -129,
    "start_time": "2022-02-09T12:58:12.625Z"
   },
   {
    "duration": -131,
    "start_time": "2022-02-09T12:58:12.629Z"
   },
   {
    "duration": -134,
    "start_time": "2022-02-09T12:58:12.634Z"
   },
   {
    "duration": -136,
    "start_time": "2022-02-09T12:58:12.638Z"
   },
   {
    "duration": -172,
    "start_time": "2022-02-09T12:58:12.676Z"
   },
   {
    "duration": -179,
    "start_time": "2022-02-09T12:58:12.685Z"
   },
   {
    "duration": -185,
    "start_time": "2022-02-09T12:58:12.693Z"
   },
   {
    "duration": -203,
    "start_time": "2022-02-09T12:58:12.712Z"
   },
   {
    "duration": -208,
    "start_time": "2022-02-09T12:58:12.719Z"
   },
   {
    "duration": -211,
    "start_time": "2022-02-09T12:58:12.723Z"
   },
   {
    "duration": -213,
    "start_time": "2022-02-09T12:58:12.727Z"
   },
   {
    "duration": 774,
    "start_time": "2022-02-09T12:59:16.717Z"
   },
   {
    "duration": 203,
    "start_time": "2022-02-09T12:59:17.495Z"
   },
   {
    "duration": 26,
    "start_time": "2022-02-09T12:59:17.702Z"
   },
   {
    "duration": 56,
    "start_time": "2022-02-09T12:59:17.731Z"
   },
   {
    "duration": 6,
    "start_time": "2022-02-09T12:59:17.789Z"
   },
   {
    "duration": 32,
    "start_time": "2022-02-09T12:59:17.797Z"
   },
   {
    "duration": 13,
    "start_time": "2022-02-09T12:59:17.832Z"
   },
   {
    "duration": 34,
    "start_time": "2022-02-09T12:59:17.870Z"
   },
   {
    "duration": 42,
    "start_time": "2022-02-09T12:59:17.907Z"
   },
   {
    "duration": 45,
    "start_time": "2022-02-09T12:59:17.952Z"
   },
   {
    "duration": 115,
    "start_time": "2022-02-09T12:59:18.000Z"
   },
   {
    "duration": 124,
    "start_time": "2022-02-09T12:59:18.118Z"
   },
   {
    "duration": 96,
    "start_time": "2022-02-09T12:59:18.244Z"
   },
   {
    "duration": 8,
    "start_time": "2022-02-09T12:59:18.342Z"
   },
   {
    "duration": 5,
    "start_time": "2022-02-09T12:59:18.370Z"
   },
   {
    "duration": 25,
    "start_time": "2022-02-09T12:59:18.377Z"
   },
   {
    "duration": 19,
    "start_time": "2022-02-09T12:59:18.405Z"
   },
   {
    "duration": 110,
    "start_time": "2022-02-09T12:59:18.427Z"
   },
   {
    "duration": 30,
    "start_time": "2022-02-09T12:59:18.540Z"
   },
   {
    "duration": 4,
    "start_time": "2022-02-09T12:59:18.573Z"
   },
   {
    "duration": 27,
    "start_time": "2022-02-09T12:59:18.580Z"
   },
   {
    "duration": 21,
    "start_time": "2022-02-09T12:59:18.609Z"
   },
   {
    "duration": 22,
    "start_time": "2022-02-09T12:59:18.669Z"
   },
   {
    "duration": 21,
    "start_time": "2022-02-09T12:59:18.694Z"
   },
   {
    "duration": 58,
    "start_time": "2022-02-09T12:59:18.718Z"
   },
   {
    "duration": 22,
    "start_time": "2022-02-09T12:59:18.779Z"
   },
   {
    "duration": 375,
    "start_time": "2022-02-09T12:59:18.804Z"
   },
   {
    "duration": -236,
    "start_time": "2022-02-09T12:59:19.417Z"
   },
   {
    "duration": -240,
    "start_time": "2022-02-09T12:59:19.423Z"
   },
   {
    "duration": -244,
    "start_time": "2022-02-09T12:59:19.429Z"
   },
   {
    "duration": -249,
    "start_time": "2022-02-09T12:59:19.435Z"
   },
   {
    "duration": -252,
    "start_time": "2022-02-09T12:59:19.440Z"
   },
   {
    "duration": -258,
    "start_time": "2022-02-09T12:59:19.448Z"
   },
   {
    "duration": -260,
    "start_time": "2022-02-09T12:59:19.451Z"
   },
   {
    "duration": -263,
    "start_time": "2022-02-09T12:59:19.456Z"
   },
   {
    "duration": -265,
    "start_time": "2022-02-09T12:59:19.459Z"
   },
   {
    "duration": -268,
    "start_time": "2022-02-09T12:59:19.464Z"
   },
   {
    "duration": -270,
    "start_time": "2022-02-09T12:59:19.467Z"
   },
   {
    "duration": 799,
    "start_time": "2022-02-09T13:00:55.331Z"
   },
   {
    "duration": 208,
    "start_time": "2022-02-09T13:00:56.133Z"
   },
   {
    "duration": 34,
    "start_time": "2022-02-09T13:00:56.344Z"
   },
   {
    "duration": 33,
    "start_time": "2022-02-09T13:00:56.381Z"
   },
   {
    "duration": 5,
    "start_time": "2022-02-09T13:00:56.417Z"
   },
   {
    "duration": 66,
    "start_time": "2022-02-09T13:00:56.424Z"
   },
   {
    "duration": 6,
    "start_time": "2022-02-09T13:00:56.493Z"
   },
   {
    "duration": 34,
    "start_time": "2022-02-09T13:00:56.503Z"
   },
   {
    "duration": 46,
    "start_time": "2022-02-09T13:00:56.541Z"
   },
   {
    "duration": 30,
    "start_time": "2022-02-09T13:00:56.590Z"
   },
   {
    "duration": 113,
    "start_time": "2022-02-09T13:00:56.622Z"
   },
   {
    "duration": 119,
    "start_time": "2022-02-09T13:00:56.738Z"
   },
   {
    "duration": 81,
    "start_time": "2022-02-09T13:00:56.859Z"
   },
   {
    "duration": 28,
    "start_time": "2022-02-09T13:00:56.943Z"
   },
   {
    "duration": 5,
    "start_time": "2022-02-09T13:00:56.973Z"
   },
   {
    "duration": 25,
    "start_time": "2022-02-09T13:00:56.980Z"
   },
   {
    "duration": 19,
    "start_time": "2022-02-09T13:00:57.008Z"
   },
   {
    "duration": 110,
    "start_time": "2022-02-09T13:00:57.029Z"
   },
   {
    "duration": 28,
    "start_time": "2022-02-09T13:00:57.142Z"
   },
   {
    "duration": 4,
    "start_time": "2022-02-09T13:00:57.173Z"
   },
   {
    "duration": 31,
    "start_time": "2022-02-09T13:00:57.180Z"
   },
   {
    "duration": 19,
    "start_time": "2022-02-09T13:00:57.213Z"
   },
   {
    "duration": 46,
    "start_time": "2022-02-09T13:00:57.237Z"
   },
   {
    "duration": 19,
    "start_time": "2022-02-09T13:00:57.286Z"
   },
   {
    "duration": 23,
    "start_time": "2022-02-09T13:00:57.307Z"
   },
   {
    "duration": 54,
    "start_time": "2022-02-09T13:00:57.332Z"
   },
   {
    "duration": 371,
    "start_time": "2022-02-09T13:00:57.388Z"
   },
   {
    "duration": -342,
    "start_time": "2022-02-09T13:00:58.103Z"
   },
   {
    "duration": -345,
    "start_time": "2022-02-09T13:00:58.108Z"
   },
   {
    "duration": -347,
    "start_time": "2022-02-09T13:00:58.111Z"
   },
   {
    "duration": -350,
    "start_time": "2022-02-09T13:00:58.115Z"
   },
   {
    "duration": -352,
    "start_time": "2022-02-09T13:00:58.119Z"
   },
   {
    "duration": -354,
    "start_time": "2022-02-09T13:00:58.122Z"
   },
   {
    "duration": -357,
    "start_time": "2022-02-09T13:00:58.126Z"
   },
   {
    "duration": -359,
    "start_time": "2022-02-09T13:00:58.130Z"
   },
   {
    "duration": -362,
    "start_time": "2022-02-09T13:00:58.134Z"
   },
   {
    "duration": -364,
    "start_time": "2022-02-09T13:00:58.137Z"
   },
   {
    "duration": -367,
    "start_time": "2022-02-09T13:00:58.141Z"
   },
   {
    "duration": 781,
    "start_time": "2022-02-09T13:18:23.492Z"
   },
   {
    "duration": 199,
    "start_time": "2022-02-09T13:18:24.276Z"
   },
   {
    "duration": 29,
    "start_time": "2022-02-09T13:18:24.479Z"
   },
   {
    "duration": 57,
    "start_time": "2022-02-09T13:18:24.512Z"
   },
   {
    "duration": 7,
    "start_time": "2022-02-09T13:18:24.572Z"
   },
   {
    "duration": 34,
    "start_time": "2022-02-09T13:18:24.582Z"
   },
   {
    "duration": 5,
    "start_time": "2022-02-09T13:18:24.618Z"
   },
   {
    "duration": 68,
    "start_time": "2022-02-09T13:18:24.627Z"
   },
   {
    "duration": 22,
    "start_time": "2022-02-09T13:18:24.698Z"
   },
   {
    "duration": 55,
    "start_time": "2022-02-09T13:18:24.723Z"
   },
   {
    "duration": 105,
    "start_time": "2022-02-09T13:18:24.781Z"
   },
   {
    "duration": 123,
    "start_time": "2022-02-09T13:18:24.888Z"
   },
   {
    "duration": 97,
    "start_time": "2022-02-09T13:18:25.014Z"
   },
   {
    "duration": 9,
    "start_time": "2022-02-09T13:18:25.114Z"
   },
   {
    "duration": 6,
    "start_time": "2022-02-09T13:18:25.127Z"
   },
   {
    "duration": 53,
    "start_time": "2022-02-09T13:18:25.136Z"
   },
   {
    "duration": 20,
    "start_time": "2022-02-09T13:18:25.192Z"
   },
   {
    "duration": 102,
    "start_time": "2022-02-09T13:18:25.215Z"
   },
   {
    "duration": 15,
    "start_time": "2022-02-09T13:18:25.319Z"
   },
   {
    "duration": 5,
    "start_time": "2022-02-09T13:18:25.336Z"
   },
   {
    "duration": 49,
    "start_time": "2022-02-09T13:18:25.344Z"
   },
   {
    "duration": 23,
    "start_time": "2022-02-09T13:18:25.396Z"
   },
   {
    "duration": 56,
    "start_time": "2022-02-09T13:18:25.426Z"
   },
   {
    "duration": 23,
    "start_time": "2022-02-09T13:18:25.485Z"
   },
   {
    "duration": 57,
    "start_time": "2022-02-09T13:18:25.512Z"
   },
   {
    "duration": 24,
    "start_time": "2022-02-09T13:18:25.572Z"
   },
   {
    "duration": 14,
    "start_time": "2022-02-09T13:18:25.599Z"
   },
   {
    "duration": 9,
    "start_time": "2022-02-09T13:18:25.616Z"
   },
   {
    "duration": 41,
    "start_time": "2022-02-09T13:18:25.628Z"
   },
   {
    "duration": 11,
    "start_time": "2022-02-09T13:18:25.672Z"
   },
   {
    "duration": 9,
    "start_time": "2022-02-09T13:18:25.685Z"
   },
   {
    "duration": 13,
    "start_time": "2022-02-09T13:18:25.697Z"
   },
   {
    "duration": 5,
    "start_time": "2022-02-09T13:18:25.713Z"
   },
   {
    "duration": 7,
    "start_time": "2022-02-09T13:18:25.721Z"
   },
   {
    "duration": 372,
    "start_time": "2022-02-09T13:18:25.730Z"
   },
   {
    "duration": -112,
    "start_time": "2022-02-09T13:18:26.217Z"
   },
   {
    "duration": -114,
    "start_time": "2022-02-09T13:18:26.220Z"
   },
   {
    "duration": -115,
    "start_time": "2022-02-09T13:18:26.223Z"
   },
   {
    "duration": 800,
    "start_time": "2022-02-09T13:25:35.773Z"
   },
   {
    "duration": 194,
    "start_time": "2022-02-09T13:25:36.576Z"
   },
   {
    "duration": 26,
    "start_time": "2022-02-09T13:25:36.773Z"
   },
   {
    "duration": 34,
    "start_time": "2022-02-09T13:25:36.802Z"
   },
   {
    "duration": 33,
    "start_time": "2022-02-09T13:25:36.839Z"
   },
   {
    "duration": 32,
    "start_time": "2022-02-09T13:25:36.875Z"
   },
   {
    "duration": 7,
    "start_time": "2022-02-09T13:25:36.909Z"
   },
   {
    "duration": 57,
    "start_time": "2022-02-09T13:25:36.920Z"
   },
   {
    "duration": 24,
    "start_time": "2022-02-09T13:25:36.981Z"
   },
   {
    "duration": 61,
    "start_time": "2022-02-09T13:25:37.008Z"
   },
   {
    "duration": 113,
    "start_time": "2022-02-09T13:25:37.073Z"
   },
   {
    "duration": 125,
    "start_time": "2022-02-09T13:25:37.189Z"
   },
   {
    "duration": 93,
    "start_time": "2022-02-09T13:25:37.316Z"
   },
   {
    "duration": 8,
    "start_time": "2022-02-09T13:25:37.412Z"
   },
   {
    "duration": 8,
    "start_time": "2022-02-09T13:25:37.422Z"
   },
   {
    "duration": 42,
    "start_time": "2022-02-09T13:25:37.432Z"
   },
   {
    "duration": 22,
    "start_time": "2022-02-09T13:25:37.476Z"
   },
   {
    "duration": 93,
    "start_time": "2022-02-09T13:25:37.500Z"
   },
   {
    "duration": 15,
    "start_time": "2022-02-09T13:25:37.596Z"
   },
   {
    "duration": 9,
    "start_time": "2022-02-09T13:25:37.613Z"
   },
   {
    "duration": 53,
    "start_time": "2022-02-09T13:25:37.624Z"
   },
   {
    "duration": 20,
    "start_time": "2022-02-09T13:25:37.680Z"
   },
   {
    "duration": 38,
    "start_time": "2022-02-09T13:25:37.705Z"
   },
   {
    "duration": 29,
    "start_time": "2022-02-09T13:25:37.746Z"
   },
   {
    "duration": 22,
    "start_time": "2022-02-09T13:25:37.777Z"
   },
   {
    "duration": 21,
    "start_time": "2022-02-09T13:25:37.801Z"
   },
   {
    "duration": 45,
    "start_time": "2022-02-09T13:25:37.824Z"
   },
   {
    "duration": 15,
    "start_time": "2022-02-09T13:25:37.871Z"
   },
   {
    "duration": 13,
    "start_time": "2022-02-09T13:25:37.889Z"
   },
   {
    "duration": 6,
    "start_time": "2022-02-09T13:25:37.905Z"
   },
   {
    "duration": 9,
    "start_time": "2022-02-09T13:25:37.914Z"
   },
   {
    "duration": 5,
    "start_time": "2022-02-09T13:25:37.925Z"
   },
   {
    "duration": 37,
    "start_time": "2022-02-09T13:25:37.932Z"
   },
   {
    "duration": 8,
    "start_time": "2022-02-09T13:25:37.972Z"
   },
   {
    "duration": 17,
    "start_time": "2022-02-09T13:25:37.983Z"
   },
   {
    "duration": 7,
    "start_time": "2022-02-09T13:25:38.002Z"
   },
   {
    "duration": 10,
    "start_time": "2022-02-09T13:25:38.011Z"
   },
   {
    "duration": 45,
    "start_time": "2022-02-09T13:25:38.024Z"
   },
   {
    "duration": 825,
    "start_time": "2022-02-09T13:40:32.763Z"
   },
   {
    "duration": 191,
    "start_time": "2022-02-09T13:40:33.591Z"
   },
   {
    "duration": 27,
    "start_time": "2022-02-09T13:40:33.785Z"
   },
   {
    "duration": 34,
    "start_time": "2022-02-09T13:40:33.815Z"
   },
   {
    "duration": 5,
    "start_time": "2022-02-09T13:40:33.871Z"
   },
   {
    "duration": 31,
    "start_time": "2022-02-09T13:40:33.879Z"
   },
   {
    "duration": 5,
    "start_time": "2022-02-09T13:40:33.912Z"
   },
   {
    "duration": 72,
    "start_time": "2022-02-09T13:40:33.921Z"
   },
   {
    "duration": 25,
    "start_time": "2022-02-09T13:40:33.996Z"
   },
   {
    "duration": 47,
    "start_time": "2022-02-09T13:40:34.023Z"
   },
   {
    "duration": 108,
    "start_time": "2022-02-09T13:40:34.073Z"
   },
   {
    "duration": 124,
    "start_time": "2022-02-09T13:40:34.183Z"
   },
   {
    "duration": 89,
    "start_time": "2022-02-09T13:40:34.309Z"
   },
   {
    "duration": 9,
    "start_time": "2022-02-09T13:40:34.401Z"
   },
   {
    "duration": 20,
    "start_time": "2022-02-09T13:40:34.412Z"
   },
   {
    "duration": 38,
    "start_time": "2022-02-09T13:40:34.434Z"
   },
   {
    "duration": 19,
    "start_time": "2022-02-09T13:40:34.474Z"
   },
   {
    "duration": 92,
    "start_time": "2022-02-09T13:40:34.495Z"
   },
   {
    "duration": 14,
    "start_time": "2022-02-09T13:40:34.589Z"
   },
   {
    "duration": 4,
    "start_time": "2022-02-09T13:40:34.606Z"
   },
   {
    "duration": 27,
    "start_time": "2022-02-09T13:40:34.613Z"
   },
   {
    "duration": 40,
    "start_time": "2022-02-09T13:40:34.642Z"
   },
   {
    "duration": 19,
    "start_time": "2022-02-09T13:40:34.686Z"
   },
   {
    "duration": 18,
    "start_time": "2022-02-09T13:40:34.708Z"
   },
   {
    "duration": 61,
    "start_time": "2022-02-09T13:40:34.728Z"
   },
   {
    "duration": 23,
    "start_time": "2022-02-09T13:40:34.791Z"
   },
   {
    "duration": 12,
    "start_time": "2022-02-09T13:40:34.816Z"
   },
   {
    "duration": 51,
    "start_time": "2022-02-09T13:40:34.830Z"
   },
   {
    "duration": 17,
    "start_time": "2022-02-09T13:40:34.883Z"
   },
   {
    "duration": 5,
    "start_time": "2022-02-09T13:40:34.903Z"
   },
   {
    "duration": 30,
    "start_time": "2022-02-09T13:40:34.911Z"
   },
   {
    "duration": 3,
    "start_time": "2022-02-09T13:40:34.969Z"
   },
   {
    "duration": 6,
    "start_time": "2022-02-09T13:40:34.974Z"
   },
   {
    "duration": 6,
    "start_time": "2022-02-09T13:40:34.982Z"
   },
   {
    "duration": 17,
    "start_time": "2022-02-09T13:40:34.990Z"
   },
   {
    "duration": 6,
    "start_time": "2022-02-09T13:40:35.009Z"
   },
   {
    "duration": 11,
    "start_time": "2022-02-09T13:40:35.018Z"
   },
   {
    "duration": 43,
    "start_time": "2022-02-09T13:40:35.032Z"
   },
   {
    "duration": 787,
    "start_time": "2022-02-09T13:47:21.154Z"
   },
   {
    "duration": 209,
    "start_time": "2022-02-09T13:47:21.944Z"
   },
   {
    "duration": 39,
    "start_time": "2022-02-09T13:47:22.157Z"
   },
   {
    "duration": 39,
    "start_time": "2022-02-09T13:47:22.199Z"
   },
   {
    "duration": 28,
    "start_time": "2022-02-09T13:47:22.241Z"
   },
   {
    "duration": 35,
    "start_time": "2022-02-09T13:47:22.272Z"
   },
   {
    "duration": 6,
    "start_time": "2022-02-09T13:47:22.309Z"
   },
   {
    "duration": 56,
    "start_time": "2022-02-09T13:47:22.318Z"
   },
   {
    "duration": 23,
    "start_time": "2022-02-09T13:47:22.377Z"
   },
   {
    "duration": 30,
    "start_time": "2022-02-09T13:47:22.403Z"
   },
   {
    "duration": 117,
    "start_time": "2022-02-09T13:47:22.436Z"
   },
   {
    "duration": 126,
    "start_time": "2022-02-09T13:47:22.555Z"
   },
   {
    "duration": 93,
    "start_time": "2022-02-09T13:47:22.684Z"
   },
   {
    "duration": 9,
    "start_time": "2022-02-09T13:47:22.779Z"
   },
   {
    "duration": 5,
    "start_time": "2022-02-09T13:47:22.790Z"
   },
   {
    "duration": 29,
    "start_time": "2022-02-09T13:47:22.797Z"
   },
   {
    "duration": 43,
    "start_time": "2022-02-09T13:47:22.828Z"
   },
   {
    "duration": 94,
    "start_time": "2022-02-09T13:47:22.874Z"
   },
   {
    "duration": 16,
    "start_time": "2022-02-09T13:47:22.971Z"
   },
   {
    "duration": 5,
    "start_time": "2022-02-09T13:47:22.990Z"
   },
   {
    "duration": 31,
    "start_time": "2022-02-09T13:47:22.997Z"
   },
   {
    "duration": 49,
    "start_time": "2022-02-09T13:47:23.030Z"
   },
   {
    "duration": 21,
    "start_time": "2022-02-09T13:47:23.084Z"
   },
   {
    "duration": 19,
    "start_time": "2022-02-09T13:47:23.108Z"
   },
   {
    "duration": 51,
    "start_time": "2022-02-09T13:47:23.130Z"
   },
   {
    "duration": 20,
    "start_time": "2022-02-09T13:47:23.184Z"
   },
   {
    "duration": 12,
    "start_time": "2022-02-09T13:47:23.206Z"
   },
   {
    "duration": 51,
    "start_time": "2022-02-09T13:47:23.221Z"
   },
   {
    "duration": 13,
    "start_time": "2022-02-09T13:47:23.275Z"
   },
   {
    "duration": 6,
    "start_time": "2022-02-09T13:47:23.290Z"
   },
   {
    "duration": 31,
    "start_time": "2022-02-09T13:47:23.298Z"
   },
   {
    "duration": 47,
    "start_time": "2022-02-09T13:47:23.331Z"
   },
   {
    "duration": 21,
    "start_time": "2022-02-09T13:47:23.380Z"
   },
   {
    "duration": 15,
    "start_time": "2022-02-09T13:47:23.404Z"
   },
   {
    "duration": 12,
    "start_time": "2022-02-09T13:47:23.421Z"
   },
   {
    "duration": 39,
    "start_time": "2022-02-09T13:47:23.435Z"
   },
   {
    "duration": 9,
    "start_time": "2022-02-09T13:47:23.476Z"
   },
   {
    "duration": 7,
    "start_time": "2022-02-09T13:47:23.487Z"
   },
   {
    "duration": 550,
    "start_time": "2022-02-14T13:04:03.250Z"
   },
   {
    "duration": 136,
    "start_time": "2022-02-14T13:04:03.802Z"
   },
   {
    "duration": 16,
    "start_time": "2022-02-14T13:04:03.940Z"
   },
   {
    "duration": 25,
    "start_time": "2022-02-14T13:04:03.958Z"
   },
   {
    "duration": 3,
    "start_time": "2022-02-14T13:04:03.985Z"
   },
   {
    "duration": 39,
    "start_time": "2022-02-14T13:04:03.990Z"
   },
   {
    "duration": 5,
    "start_time": "2022-02-14T13:04:04.030Z"
   },
   {
    "duration": 22,
    "start_time": "2022-02-14T13:04:04.038Z"
   },
   {
    "duration": 17,
    "start_time": "2022-02-14T13:04:04.062Z"
   },
   {
    "duration": 48,
    "start_time": "2022-02-14T13:04:04.081Z"
   },
   {
    "duration": 58,
    "start_time": "2022-02-14T13:04:04.131Z"
   },
   {
    "duration": 78,
    "start_time": "2022-02-14T13:04:04.190Z"
   },
   {
    "duration": 58,
    "start_time": "2022-02-14T13:04:04.270Z"
   },
   {
    "duration": 6,
    "start_time": "2022-02-14T13:04:04.330Z"
   },
   {
    "duration": 8,
    "start_time": "2022-02-14T13:04:04.338Z"
   },
   {
    "duration": 17,
    "start_time": "2022-02-14T13:04:04.348Z"
   },
   {
    "duration": 7,
    "start_time": "2022-02-14T13:04:04.367Z"
   },
   {
    "duration": 38,
    "start_time": "2022-02-14T13:04:04.376Z"
   },
   {
    "duration": 11,
    "start_time": "2022-02-14T13:04:04.416Z"
   },
   {
    "duration": 3,
    "start_time": "2022-02-14T13:04:04.429Z"
   },
   {
    "duration": 19,
    "start_time": "2022-02-14T13:04:04.434Z"
   },
   {
    "duration": 14,
    "start_time": "2022-02-14T13:04:04.455Z"
   },
   {
    "duration": 42,
    "start_time": "2022-02-14T13:04:04.472Z"
   },
   {
    "duration": 14,
    "start_time": "2022-02-14T13:04:04.516Z"
   },
   {
    "duration": 16,
    "start_time": "2022-02-14T13:04:04.532Z"
   },
   {
    "duration": 13,
    "start_time": "2022-02-14T13:04:04.550Z"
   },
   {
    "duration": 8,
    "start_time": "2022-02-14T13:04:04.565Z"
   },
   {
    "duration": 40,
    "start_time": "2022-02-14T13:04:04.575Z"
   },
   {
    "duration": 8,
    "start_time": "2022-02-14T13:04:04.617Z"
   },
   {
    "duration": 4,
    "start_time": "2022-02-14T13:04:04.627Z"
   },
   {
    "duration": 23,
    "start_time": "2022-02-14T13:04:04.633Z"
   },
   {
    "duration": 13,
    "start_time": "2022-02-14T13:04:04.657Z"
   },
   {
    "duration": 42,
    "start_time": "2022-02-14T13:04:04.671Z"
   },
   {
    "duration": 12,
    "start_time": "2022-02-14T13:04:04.715Z"
   },
   {
    "duration": 9,
    "start_time": "2022-02-14T13:04:04.728Z"
   },
   {
    "duration": 4,
    "start_time": "2022-02-14T13:04:04.739Z"
   },
   {
    "duration": 12,
    "start_time": "2022-02-14T13:04:04.744Z"
   },
   {
    "duration": 6,
    "start_time": "2022-02-14T13:04:04.758Z"
   }
  ],
  "colab": {
   "collapsed_sections": [
    "E0vqbgi9ay0H",
    "VUC88oWjTJw2"
   ],
   "name": "yandex_music_project_2021.2.ipynb",
   "provenance": []
  },
  "kernelspec": {
   "display_name": "Python 3 (ipykernel)",
   "language": "python",
   "name": "python3"
  },
  "language_info": {
   "codemirror_mode": {
    "name": "ipython",
    "version": 3
   },
   "file_extension": ".py",
   "mimetype": "text/x-python",
   "name": "python",
   "nbconvert_exporter": "python",
   "pygments_lexer": "ipython3",
   "version": "3.9.5"
  },
  "toc": {
   "base_numbering": 1,
   "nav_menu": {},
   "number_sections": true,
   "sideBar": true,
   "skip_h1_title": true,
   "title_cell": "Table of Contents",
   "title_sidebar": "Contents",
   "toc_cell": false,
   "toc_position": {},
   "toc_section_display": true,
   "toc_window_display": true
  }
 },
 "nbformat": 4,
 "nbformat_minor": 1
}
